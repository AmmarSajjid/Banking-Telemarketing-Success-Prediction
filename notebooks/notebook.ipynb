{
 "cells": [
  {
   "cell_type": "markdown",
   "metadata": {},
   "source": [
    "## 1. Importing Relevant Libraries"
   ]
  },
  {
   "cell_type": "code",
   "execution_count": null,
   "metadata": {
    "execution": {
     "iopub.execute_input": "2024-11-27T10:39:59.357091Z",
     "iopub.status.busy": "2024-11-27T10:39:59.356645Z",
     "iopub.status.idle": "2024-11-27T10:40:01.981884Z",
     "shell.execute_reply": "2024-11-27T10:40:01.980535Z",
     "shell.execute_reply.started": "2024-11-27T10:39:59.357059Z"
    },
    "trusted": true
   },
   "outputs": [],
   "source": [
    "import warnings\n",
    "import pandas as pd\n",
    "import numpy as np\n",
    "import matplotlib.pyplot as plt\n",
    "import seaborn as sns\n",
    "from sklearn.impute import SimpleImputer\n",
    "from sklearn.preprocessing import LabelEncoder, OneHotEncoder, OrdinalEncoder, StandardScaler, FunctionTransformer, PolynomialFeatures\n",
    "from sklearn.compose import ColumnTransformer\n",
    "from sklearn.pipeline import Pipeline, FeatureUnion\n",
    "from sklearn.model_selection import train_test_split, GridSearchCV, RandomizedSearchCV, cross_val_score\n",
    "from sklearn.linear_model import LogisticRegression, SGDClassifier\n",
    "from sklearn.naive_bayes import GaussianNB\n",
    "from sklearn.tree import DecisionTreeClassifier\n",
    "from sklearn.svm import SVC\n",
    "from sklearn.metrics import accuracy_score, classification_report, confusion_matrix\n",
    "from sklearn.feature_selection import RFECV, RFE, SelectPercentile, chi2, f_classif\n",
    "from sklearn.ensemble import RandomForestClassifier, AdaBoostClassifier, GradientBoostingClassifier\n",
    "from imblearn.over_sampling import SMOTE\n",
    "from imblearn.pipeline import Pipeline as ImbPipeline\n",
    "from xgboost import XGBClassifier"
   ]
  },
  {
   "cell_type": "markdown",
   "metadata": {},
   "source": [
    "## 2. Loading the data"
   ]
  },
  {
   "cell_type": "code",
   "execution_count": null,
   "metadata": {
    "execution": {
     "iopub.execute_input": "2024-11-27T10:40:01.992164Z",
     "iopub.status.busy": "2024-11-27T10:40:01.991809Z",
     "iopub.status.idle": "2024-11-27T10:40:02.178396Z",
     "shell.execute_reply": "2024-11-27T10:40:02.177028Z",
     "shell.execute_reply.started": "2024-11-27T10:40:01.992129Z"
    },
    "trusted": true
   },
   "outputs": [],
   "source": [
    "df = pd.read_csv(\"train.csv\")\n",
    "df.head()"
   ]
  },
  {
   "cell_type": "markdown",
   "metadata": {},
   "source": [
    "## 3. EDA"
   ]
  },
  {
   "cell_type": "markdown",
   "metadata": {},
   "source": [
    "creating a copy of the database for EDA"
   ]
  },
  {
   "cell_type": "code",
   "execution_count": null,
   "metadata": {
    "execution": {
     "iopub.execute_input": "2024-11-27T10:40:02.180322Z",
     "iopub.status.busy": "2024-11-27T10:40:02.179842Z",
     "iopub.status.idle": "2024-11-27T10:40:02.189529Z",
     "shell.execute_reply": "2024-11-27T10:40:02.188479Z",
     "shell.execute_reply.started": "2024-11-27T10:40:02.180235Z"
    },
    "trusted": true
   },
   "outputs": [],
   "source": [
    "df_eda = df.copy()  # creating a copy of the database"
   ]
  },
  {
   "cell_type": "code",
   "execution_count": null,
   "metadata": {
    "execution": {
     "iopub.execute_input": "2024-11-27T10:40:02.191215Z",
     "iopub.status.busy": "2024-11-27T10:40:02.190811Z",
     "iopub.status.idle": "2024-11-27T10:40:02.202707Z",
     "shell.execute_reply": "2024-11-27T10:40:02.201513Z",
     "shell.execute_reply.started": "2024-11-27T10:40:02.191179Z"
    },
    "trusted": true
   },
   "outputs": [],
   "source": [
    "df_eda.shape"
   ]
  },
  {
   "cell_type": "code",
   "execution_count": null,
   "metadata": {
    "execution": {
     "iopub.execute_input": "2024-11-27T10:40:02.204494Z",
     "iopub.status.busy": "2024-11-27T10:40:02.204102Z",
     "iopub.status.idle": "2024-11-27T10:40:02.217237Z",
     "shell.execute_reply": "2024-11-27T10:40:02.215996Z",
     "shell.execute_reply.started": "2024-11-27T10:40:02.204461Z"
    },
    "trusted": true
   },
   "outputs": [],
   "source": [
    "df_eda.columns"
   ]
  },
  {
   "cell_type": "code",
   "execution_count": null,
   "metadata": {
    "execution": {
     "iopub.execute_input": "2024-11-27T10:40:02.219158Z",
     "iopub.status.busy": "2024-11-27T10:40:02.218791Z",
     "iopub.status.idle": "2024-11-27T10:40:02.238584Z",
     "shell.execute_reply": "2024-11-27T10:40:02.237354Z",
     "shell.execute_reply.started": "2024-11-27T10:40:02.219110Z"
    },
    "trusted": true
   },
   "outputs": [],
   "source": [
    "df_eda.head()"
   ]
  },
  {
   "cell_type": "code",
   "execution_count": null,
   "metadata": {
    "execution": {
     "iopub.execute_input": "2024-11-27T10:40:02.240457Z",
     "iopub.status.busy": "2024-11-27T10:40:02.240080Z",
     "iopub.status.idle": "2024-11-27T10:40:02.293429Z",
     "shell.execute_reply": "2024-11-27T10:40:02.292307Z",
     "shell.execute_reply.started": "2024-11-27T10:40:02.240423Z"
    },
    "trusted": true
   },
   "outputs": [],
   "source": [
    "df_eda.info()"
   ]
  },
  {
   "cell_type": "code",
   "execution_count": null,
   "metadata": {
    "execution": {
     "iopub.execute_input": "2024-11-27T10:40:02.298293Z",
     "iopub.status.busy": "2024-11-27T10:40:02.297699Z",
     "iopub.status.idle": "2024-11-27T10:40:02.326476Z",
     "shell.execute_reply": "2024-11-27T10:40:02.325211Z",
     "shell.execute_reply.started": "2024-11-27T10:40:02.298225Z"
    },
    "trusted": true
   },
   "outputs": [],
   "source": [
    "df_eda.isnull().sum()"
   ]
  },
  {
   "cell_type": "markdown",
   "metadata": {},
   "source": [
    "### 3.2. Handling missing values\n"
   ]
  },
  {
   "cell_type": "markdown",
   "metadata": {},
   "source": [
    "**Note:**  \n",
    "We are modifying a **copy** of the DataFrame (`df_eda`) for **Exploratory Data Analysis (EDA)**. The actual modifications will only be applied **after the train-test split** to avoid data leakage.\n",
    "\n",
    "---\n",
    "\n",
    "### Missing Value Handling Strategy\n",
    "\n",
    "We will handle missing values in the following columns as described below:\n",
    "\n",
    "#### **1. `job`**\n",
    "- **Missing Values:** 229 null values (0.5% of the data).\n",
    "- **Imputation Strategy:** Replace null values with the **mode** of the column (most frequent value).\n",
    "\n",
    "#### **2. `education`, `contact`, and `poutcome`**\n",
    "- **Reasoning:** The metadata indicates that these variables have \"unknown\" as a valid category. Therefore, we will replace null values with **\"unknown\"**.\n",
    "  \n",
    "  - **`poutcome`**: 29,451 null values (75% of the data).\n",
    "  - **`contact`**: 10,336 null values (26% of the data).\n",
    "\n",
    "---\n",
    "\n",
    "### Important Note:\n",
    "Imputing with the **mode** will not produce meaningful results for `poutcome` and `contact` due to the **large proportion of missing data** in these columns. Instead, imputing with `\"unknown\"` is a better approach."
   ]
  },
  {
   "cell_type": "code",
   "execution_count": null,
   "metadata": {
    "execution": {
     "iopub.execute_input": "2024-11-27T10:40:02.328149Z",
     "iopub.status.busy": "2024-11-27T10:40:02.327827Z",
     "iopub.status.idle": "2024-11-27T10:40:02.354160Z",
     "shell.execute_reply": "2024-11-27T10:40:02.352729Z",
     "shell.execute_reply.started": "2024-11-27T10:40:02.328120Z"
    },
    "trusted": true
   },
   "outputs": [],
   "source": [
    "# Imputation for job column\n",
    "row_count = df_eda.shape[0]\n",
    "imputer_eda = SimpleImputer(strategy='most_frequent')\n",
    "df_eda['job'] = imputer_eda.fit_transform(df_eda[['job']]).reshape(row_count,)"
   ]
  },
  {
   "cell_type": "code",
   "execution_count": null,
   "metadata": {
    "execution": {
     "iopub.execute_input": "2024-11-27T10:40:02.356197Z",
     "iopub.status.busy": "2024-11-27T10:40:02.355843Z",
     "iopub.status.idle": "2024-11-27T10:40:02.375869Z",
     "shell.execute_reply": "2024-11-27T10:40:02.374685Z",
     "shell.execute_reply.started": "2024-11-27T10:40:02.356161Z"
    },
    "trusted": true
   },
   "outputs": [],
   "source": [
    "# converting null values to \"unknown\" for education, contact, poutcome coulmns\n",
    "df_eda['education'] = df_eda['education'].fillna('unknown')\n",
    "df_eda['contact'] = df_eda['contact'].fillna('unknown')\n",
    "df_eda['poutcome'] = df_eda['poutcome'].fillna('unknown')"
   ]
  },
  {
   "cell_type": "code",
   "execution_count": null,
   "metadata": {
    "execution": {
     "iopub.execute_input": "2024-11-27T10:40:02.377671Z",
     "iopub.status.busy": "2024-11-27T10:40:02.377339Z",
     "iopub.status.idle": "2024-11-27T10:40:02.408048Z",
     "shell.execute_reply": "2024-11-27T10:40:02.406984Z",
     "shell.execute_reply.started": "2024-11-27T10:40:02.377641Z"
    },
    "trusted": true
   },
   "outputs": [],
   "source": [
    "# all null values are handled now\n",
    "df_eda.isnull().sum()"
   ]
  },
  {
   "cell_type": "markdown",
   "metadata": {},
   "source": [
    "### 3.3. Descriptive Statistics of Numerical Features\n"
   ]
  },
  {
   "cell_type": "code",
   "execution_count": null,
   "metadata": {
    "execution": {
     "iopub.execute_input": "2024-11-27T10:40:02.409758Z",
     "iopub.status.busy": "2024-11-27T10:40:02.409423Z",
     "iopub.status.idle": "2024-11-27T10:40:02.415476Z",
     "shell.execute_reply": "2024-11-27T10:40:02.414112Z",
     "shell.execute_reply.started": "2024-11-27T10:40:02.409725Z"
    },
    "trusted": true
   },
   "outputs": [],
   "source": [
    "numerical_features = ['age', 'balance', 'duration', 'campaign', 'pdays', 'previous']\n",
    "categorical_features = ['job', 'marital', 'education', 'default', 'housing', 'loan', 'contact','poutcome']\n",
    "cat_out = [\"target\"]"
   ]
  },
  {
   "cell_type": "code",
   "execution_count": null,
   "metadata": {
    "execution": {
     "iopub.execute_input": "2024-11-27T10:40:02.417352Z",
     "iopub.status.busy": "2024-11-27T10:40:02.416936Z",
     "iopub.status.idle": "2024-11-27T10:40:02.462310Z",
     "shell.execute_reply": "2024-11-27T10:40:02.461201Z",
     "shell.execute_reply.started": "2024-11-27T10:40:02.417306Z"
    },
    "trusted": true
   },
   "outputs": [],
   "source": [
    "df_eda.describe()"
   ]
  },
  {
   "cell_type": "markdown",
   "metadata": {},
   "source": [
    "#### **1. `balance`**\n",
    "- **Observation:** 2,800 people have a balance of **`0`** in their accounts.\n",
    "\n",
    "#### **2. `pdays`**\n",
    "- **Observation:** 29,446 values are **`-1`**, which indicates that the **client was not previously contacted**.\n",
    "\n",
    "#### **3. `previous`**\n",
    "- **Observation:** 29,456 values are **`-1`**, which also indicates that the **client was not previously contacted**.\n"
   ]
  },
  {
   "cell_type": "code",
   "execution_count": null,
   "metadata": {
    "execution": {
     "iopub.execute_input": "2024-11-27T10:40:02.463954Z",
     "iopub.status.busy": "2024-11-27T10:40:02.463615Z",
     "iopub.status.idle": "2024-11-27T10:40:04.058939Z",
     "shell.execute_reply": "2024-11-27T10:40:04.057665Z",
     "shell.execute_reply.started": "2024-11-27T10:40:02.463923Z"
    },
    "trusted": true
   },
   "outputs": [],
   "source": [
    "fig, axes = plt.subplots(2, 3, figsize=(20, 10))\n",
    "axes = axes.flatten()\n",
    "bins = [20, 10, 10, 10, 10, 10, 10, 10]\n",
    "\n",
    "for i in range(len(numerical_features)):\n",
    "  feature = numerical_features[i]\n",
    "\n",
    "  df_eda[feature].plot(kind='hist', bins=bins[i], ax=axes[i])\n",
    "  axes[i].set_title(feature)\n",
    "  axes[i].set_xlabel(feature)\n",
    "  axes[i].set_ylabel('Frequency')"
   ]
  },
  {
   "cell_type": "markdown",
   "metadata": {},
   "source": [
    "### 3.4. Descriptive statistics of Categorical features"
   ]
  },
  {
   "cell_type": "code",
   "execution_count": null,
   "metadata": {
    "execution": {
     "iopub.execute_input": "2024-11-27T10:40:04.061001Z",
     "iopub.status.busy": "2024-11-27T10:40:04.060578Z",
     "iopub.status.idle": "2024-11-27T10:40:04.160724Z",
     "shell.execute_reply": "2024-11-27T10:40:04.159570Z",
     "shell.execute_reply.started": "2024-11-27T10:40:04.060956Z"
    },
    "trusted": true
   },
   "outputs": [],
   "source": [
    "for feature in categorical_features:\n",
    "  df_temp = pd.DataFrame()\n",
    "  df_temp['values'] = df_eda[feature].unique()\n",
    "  df_temp[\"value_counts\"] = list(df_eda[feature].value_counts())\n",
    "  df_temp[\"proportions\"] = list(df_eda[feature].value_counts(normalize=True))\n",
    "  print(feature)\n",
    "  print(df_temp)\n",
    "  print(\"\\n\\n\")"
   ]
  },
  {
   "cell_type": "markdown",
   "metadata": {},
   "source": [
    "\n",
    "The following plots provide insights into the distributions of key categorical features in the dataset:\n",
    "\n",
    "#### **1. `job`**\n",
    "- The most common occupations are **blue-collar**, **management**, and **technician**.\n",
    "- Other categories, such as **student**, **housemaid**, and **unemployed**, have significantly lower representation.\n",
    "\n",
    "#### **2. `marital`**\n",
    "- The majority of individuals are **married**, followed by **single** individuals.\n",
    "- A smaller proportion of individuals are **divorced**.\n",
    "\n",
    "#### **3. `education`**\n",
    "- Most individuals have completed **secondary education**, followed by **tertiary education**.\n",
    "- A small proportion has **primary education** or an **unknown** level of education.\n",
    "\n",
    "#### **4. `default`**\n",
    "- The vast majority of individuals do not have credit in default (**no**).\n",
    "- Only a very small fraction of individuals are in default (**yes**).\n",
    "\n",
    "#### **5. `housing`**\n",
    "- More than half of the individuals have a housing loan (**yes**), while a significant proportion do not (**no**).\n",
    "\n",
    "#### **6. `loan`**\n",
    "- The majority of individuals do not have personal loans (**no**), with a smaller percentage having loans (**yes**).\n",
    "\n",
    "#### **7. `contact`**\n",
    "- Most individuals were contacted via **cellular phones**, with fewer being contacted via **telephone**.\n",
    "- A large number of contact methods are categorized as **unknown**.\n",
    "\n",
    "#### **8. `poutcome`**\n",
    "- The **previous campaign outcome** is predominantly labeled as **unknown**, which aligns with a large proportion of clients not being previously contacted.\n",
    "- Other categories, such as **failure**, **other**, and **success**, have much smaller proportions.\n"
   ]
  },
  {
   "cell_type": "code",
   "execution_count": null,
   "metadata": {
    "execution": {
     "iopub.execute_input": "2024-11-27T10:40:04.162640Z",
     "iopub.status.busy": "2024-11-27T10:40:04.162188Z",
     "iopub.status.idle": "2024-11-27T10:40:05.918229Z",
     "shell.execute_reply": "2024-11-27T10:40:05.917119Z",
     "shell.execute_reply.started": "2024-11-27T10:40:04.162595Z"
    },
    "trusted": true
   },
   "outputs": [],
   "source": [
    "fig, axes = plt.subplots(2, 4, figsize=(20, 10))\n",
    "axes = axes.flatten()\n",
    "\n",
    "for i in range(len(categorical_features)):\n",
    "  feature = categorical_features[i]\n",
    "\n",
    "  df_eda[feature].value_counts().plot(kind='bar', ax=axes[i])\n",
    "  axes[i].set_title(feature)\n",
    "  axes[i].set_xlabel(feature)\n",
    "  axes[i].set_ylabel('Count')\n",
    "\n",
    "plt.subplots_adjust(hspace=0.6)\n",
    "plt.subplots_adjust(wspace=0.25)\n"
   ]
  },
  {
   "cell_type": "markdown",
   "metadata": {},
   "source": [
    "### 3.5. Outlier Detection"
   ]
  },
  {
   "cell_type": "markdown",
   "metadata": {},
   "source": [
    "The box plots provide insights into the distribution and potential outliers for key numerical features in the dataset:\n",
    "\n",
    "#### **1. `age`**\n",
    "- The majority of individuals are aged between **30 and 50 years**, as shown by the interquartile range (IQR).\n",
    "- A few outliers are observed for individuals older than **60 years**, but the range remains reasonable.\n",
    "\n",
    "#### **2. `balance`**\n",
    "- Account balances are heavily skewed, with most individuals having balances close to **0**.\n",
    "- There are significant outliers where balances exceed **1,000,000**, indicating a few individuals with exceptionally high balances.\n",
    "\n",
    "#### **3. `duration`**\n",
    "- The duration of calls varies greatly, with most calls lasting less than **500 seconds**.\n",
    "- Several extreme outliers exist for calls exceeding **4,000 seconds**, indicating very long interactions for some clients.\n",
    "\n",
    "#### **4. `campaign`**\n",
    "- Most clients were contacted fewer than **10 times**, with the IQR showing most data points between **1 and 5** contacts.\n",
    "- Extreme outliers exist with clients contacted over **50 times**, which could indicate aggressive marketing strategies.\n",
    "\n",
    "#### **5. `pdays`**\n",
    "- A large proportion of values for `pdays` are concentrated at **-1**, indicating clients not previously contacted.\n",
    "- For the rest of the data, there are extreme values, with some clients having a contact gap exceeding **800 days**.\n",
    "\n",
    "#### **6. `previous`**\n",
    "- Most clients had **0 to 1 previous contacts**, with the IQR concentrated at **0**.\n",
    "- Significant outliers exist where some clients had over **200 previous contacts**, suggesting repeated interactions for a small subset of clients.\n",
    "\n",
    "---\n",
    "\n",
    "### Key Observations:\n",
    "- **Outliers:** Most features, especially `balance`, `duration`, `campaign`, `pdays`, and `previous`, contain significant outliers"
   ]
  },
  {
   "cell_type": "code",
   "execution_count": null,
   "metadata": {
    "execution": {
     "iopub.execute_input": "2024-11-27T10:40:05.920234Z",
     "iopub.status.busy": "2024-11-27T10:40:05.919780Z",
     "iopub.status.idle": "2024-11-27T10:40:06.742884Z",
     "shell.execute_reply": "2024-11-27T10:40:06.741704Z",
     "shell.execute_reply.started": "2024-11-27T10:40:05.920188Z"
    },
    "trusted": true
   },
   "outputs": [],
   "source": [
    "fig, axes = plt.subplots(2, 3, figsize=(10, 5))\n",
    "axes = axes.flatten()\n",
    "\n",
    "for i in range(len(numerical_features)):\n",
    "  plt.subplot(2, 3, i+1)\n",
    "  feature = numerical_features[i]\n",
    "\n",
    "  sns.boxplot(x=df_eda[feature])\n",
    "  plt.title(f\"Box Plot of {feature}\")\n",
    "\n",
    "plt.subplots_adjust(hspace=0.6)"
   ]
  },
  {
   "cell_type": "markdown",
   "metadata": {},
   "source": [
    "### 3.6 Class Frequency"
   ]
  },
  {
   "cell_type": "code",
   "execution_count": null,
   "metadata": {
    "execution": {
     "iopub.execute_input": "2024-11-27T10:40:06.745107Z",
     "iopub.status.busy": "2024-11-27T10:40:06.744615Z",
     "iopub.status.idle": "2024-11-27T10:40:06.758541Z",
     "shell.execute_reply": "2024-11-27T10:40:06.756925Z",
     "shell.execute_reply.started": "2024-11-27T10:40:06.745059Z"
    },
    "trusted": true
   },
   "outputs": [],
   "source": [
    "df_eda[\"target\"].value_counts()"
   ]
  },
  {
   "cell_type": "code",
   "execution_count": null,
   "metadata": {
    "execution": {
     "iopub.execute_input": "2024-11-27T10:40:06.760239Z",
     "iopub.status.busy": "2024-11-27T10:40:06.759800Z",
     "iopub.status.idle": "2024-11-27T10:40:06.989264Z",
     "shell.execute_reply": "2024-11-27T10:40:06.988190Z",
     "shell.execute_reply.started": "2024-11-27T10:40:06.760204Z"
    },
    "trusted": true
   },
   "outputs": [],
   "source": [
    "sns.countplot(x=\"target\", data=df_eda)\n",
    "plt.show()"
   ]
  },
  {
   "cell_type": "markdown",
   "metadata": {},
   "source": [
    "### 3.7 Encoding Categoical Data"
   ]
  },
  {
   "cell_type": "markdown",
   "metadata": {},
   "source": [
    "\n",
    "**Note:**  \n",
    "We are modifying a **copy** of the DataFrame (`df_eda`) for **Exploratory Data Analysis (EDA)**. The actual modifications will only be applied **after the train-test split** to avoid data leakage.\n",
    "\n",
    "---\n",
    "\n",
    "### Encoding Approach\n",
    "\n",
    "The categorical features in the dataset will be encoded as follows:\n",
    "\n",
    "#### **1. Binary Features**\n",
    "- The following features are binary and will be directly encoded using **binary encoding**:\n",
    "  - **`default`**\n",
    "  - **`housing`**\n",
    "  - **`loan`**\n",
    "\n",
    "#### **2. Non-Ordinal Categorical Features**\n",
    "- The following features will be encoded using **OneHotEncoding**:\n",
    "  - **`job`**\n",
    "  - **`marital`**\n",
    "  - **`education`**\n",
    "  - **`contact`**\n",
    "  - **`poutcome`**\n",
    "\n",
    "**Reasoning:**  \n",
    "- These features lack an **ordinal relationship** between categories.  \n",
    "- Even if some categories exhibit ordinal relationships, these relationships may not be linear, making **OneHotEncoding** the preferred choice.\n",
    "\n",
    "#### **3. Target Variable**\n",
    "- The target variable (`target`) will also be encoded using **binary encoding**.\n"
   ]
  },
  {
   "cell_type": "code",
   "execution_count": null,
   "metadata": {
    "execution": {
     "iopub.execute_input": "2024-11-27T10:40:06.991086Z",
     "iopub.status.busy": "2024-11-27T10:40:06.990732Z",
     "iopub.status.idle": "2024-11-27T10:40:07.026944Z",
     "shell.execute_reply": "2024-11-27T10:40:07.025930Z",
     "shell.execute_reply.started": "2024-11-27T10:40:06.991052Z"
    },
    "trusted": true
   },
   "outputs": [],
   "source": [
    "ordinal_encoder_eda = OrdinalEncoder()\n",
    "ordinal_encoder_eda.fit(df_eda[['default', 'housing', 'loan']])\n",
    "df_eda[['default', 'housing', 'loan']] = ordinal_encoder_eda.transform(df_eda[['default', 'housing', 'loan']])"
   ]
  },
  {
   "cell_type": "code",
   "execution_count": null,
   "metadata": {
    "execution": {
     "iopub.execute_input": "2024-11-27T10:40:07.028284Z",
     "iopub.status.busy": "2024-11-27T10:40:07.027971Z",
     "iopub.status.idle": "2024-11-27T10:40:07.140469Z",
     "shell.execute_reply": "2024-11-27T10:40:07.139294Z",
     "shell.execute_reply.started": "2024-11-27T10:40:07.028239Z"
    },
    "trusted": true
   },
   "outputs": [],
   "source": [
    "one_hot_encoder_eda = OneHotEncoder(drop=\"first\")\n",
    "one_hot_encoded_eda = one_hot_encoder_eda.fit_transform(df_eda[['job', 'marital', 'education', 'contact', 'poutcome']])\n",
    "df_encoded_eda = pd.DataFrame(one_hot_encoded_eda.toarray(), columns=one_hot_encoder_eda.get_feature_names_out())\n",
    "df_eda = pd.concat([df_eda, df_encoded_eda], axis=1)\n",
    "df_eda.drop(columns=['job', 'marital', 'education', 'contact', 'poutcome'], inplace=True, axis=1)"
   ]
  },
  {
   "cell_type": "code",
   "execution_count": null,
   "metadata": {
    "execution": {
     "iopub.execute_input": "2024-11-27T10:40:07.142129Z",
     "iopub.status.busy": "2024-11-27T10:40:07.141764Z",
     "iopub.status.idle": "2024-11-27T10:40:07.151945Z",
     "shell.execute_reply": "2024-11-27T10:40:07.150640Z",
     "shell.execute_reply.started": "2024-11-27T10:40:07.142097Z"
    },
    "trusted": true
   },
   "outputs": [],
   "source": [
    "df_eda['target'] = df_eda['target'].map({\"yes\": 1, \"no\": 0})"
   ]
  },
  {
   "cell_type": "code",
   "execution_count": null,
   "metadata": {
    "execution": {
     "iopub.execute_input": "2024-11-27T10:40:07.153744Z",
     "iopub.status.busy": "2024-11-27T10:40:07.153317Z",
     "iopub.status.idle": "2024-11-27T10:40:07.179597Z",
     "shell.execute_reply": "2024-11-27T10:40:07.178518Z",
     "shell.execute_reply.started": "2024-11-27T10:40:07.153707Z"
    },
    "trusted": true
   },
   "outputs": [],
   "source": [
    "df_eda.info()"
   ]
  },
  {
   "cell_type": "markdown",
   "metadata": {},
   "source": [
    "**Handling Date column `last contact date`**"
   ]
  },
  {
   "cell_type": "code",
   "execution_count": null,
   "metadata": {
    "execution": {
     "iopub.execute_input": "2024-11-27T10:40:07.181423Z",
     "iopub.status.busy": "2024-11-27T10:40:07.181008Z",
     "iopub.status.idle": "2024-11-27T10:40:07.221492Z",
     "shell.execute_reply": "2024-11-27T10:40:07.220240Z",
     "shell.execute_reply.started": "2024-11-27T10:40:07.181389Z"
    },
    "trusted": true
   },
   "outputs": [],
   "source": [
    "df_eda['last_contact_year'] = pd.to_datetime(df_eda['last contact date']).dt.year\n",
    "df_eda['last_contact_month'] = pd.to_datetime(df_eda['last contact date']).dt.month\n",
    "df_eda['last_contact_day'] = pd.to_datetime(df_eda['last contact date']).dt.day\n",
    "df_eda.drop(columns=['last contact date'], inplace=True)"
   ]
  },
  {
   "cell_type": "markdown",
   "metadata": {},
   "source": [
    "### 3.8 Correlation"
   ]
  },
  {
   "cell_type": "code",
   "execution_count": null,
   "metadata": {
    "execution": {
     "iopub.execute_input": "2024-11-27T10:40:07.223393Z",
     "iopub.status.busy": "2024-11-27T10:40:07.223018Z",
     "iopub.status.idle": "2024-11-27T10:40:07.383719Z",
     "shell.execute_reply": "2024-11-27T10:40:07.382574Z",
     "shell.execute_reply.started": "2024-11-27T10:40:07.223359Z"
    },
    "trusted": true
   },
   "outputs": [],
   "source": [
    "correlation_matrix = df_eda.corr()\n",
    "correlation_matrix"
   ]
  },
  {
   "cell_type": "code",
   "execution_count": null,
   "metadata": {
    "execution": {
     "iopub.execute_input": "2024-11-27T10:40:07.391532Z",
     "iopub.status.busy": "2024-11-27T10:40:07.391134Z",
     "iopub.status.idle": "2024-11-27T10:40:07.401390Z",
     "shell.execute_reply": "2024-11-27T10:40:07.400192Z",
     "shell.execute_reply.started": "2024-11-27T10:40:07.391498Z"
    },
    "trusted": true
   },
   "outputs": [],
   "source": [
    "correlation_matrix['target'].sort_values(ascending=False)"
   ]
  },
  {
   "cell_type": "code",
   "execution_count": null,
   "metadata": {
    "execution": {
     "iopub.execute_input": "2024-11-27T10:40:07.403410Z",
     "iopub.status.busy": "2024-11-27T10:40:07.402937Z",
     "iopub.status.idle": "2024-11-27T10:40:07.420345Z",
     "shell.execute_reply": "2024-11-27T10:40:07.419252Z",
     "shell.execute_reply.started": "2024-11-27T10:40:07.403363Z"
    },
    "trusted": true
   },
   "outputs": [],
   "source": [
    "# 10 higest correlated features to the label\n",
    "correlation_matrix['target'].abs().sort_values(ascending=False).head(11)"
   ]
  },
  {
   "cell_type": "code",
   "execution_count": null,
   "metadata": {
    "execution": {
     "iopub.execute_input": "2024-11-27T10:40:07.422352Z",
     "iopub.status.busy": "2024-11-27T10:40:07.421976Z",
     "iopub.status.idle": "2024-11-27T10:40:07.435935Z",
     "shell.execute_reply": "2024-11-27T10:40:07.434708Z",
     "shell.execute_reply.started": "2024-11-27T10:40:07.422320Z"
    },
    "trusted": true
   },
   "outputs": [],
   "source": [
    "best_features = correlation_matrix['target'].abs().sort_values(ascending=False).head(11).index\n",
    "best_features"
   ]
  },
  {
   "cell_type": "code",
   "execution_count": null,
   "metadata": {
    "execution": {
     "iopub.execute_input": "2024-11-27T10:40:07.438070Z",
     "iopub.status.busy": "2024-11-27T10:40:07.437350Z",
     "iopub.status.idle": "2024-11-27T10:40:08.219540Z",
     "shell.execute_reply": "2024-11-27T10:40:08.218347Z",
     "shell.execute_reply.started": "2024-11-27T10:40:07.438018Z"
    },
    "trusted": true
   },
   "outputs": [],
   "source": [
    "plt.figure(figsize=(10, 8))\n",
    "sns.heatmap(correlation_matrix, cmap='coolwarm')\n",
    "plt.title('Correlation Matrix')\n",
    "plt.show()"
   ]
  },
  {
   "cell_type": "code",
   "execution_count": null,
   "metadata": {
    "execution": {
     "iopub.execute_input": "2024-11-27T10:40:08.222064Z",
     "iopub.status.busy": "2024-11-27T10:40:08.221618Z",
     "iopub.status.idle": "2024-11-27T10:40:08.832650Z",
     "shell.execute_reply": "2024-11-27T10:40:08.831539Z",
     "shell.execute_reply.started": "2024-11-27T10:40:08.222014Z"
    },
    "trusted": true
   },
   "outputs": [],
   "source": [
    "correlation_matrix_best = df_eda[best_features].corr()\n",
    "plt.figure(figsize=(10, 8))\n",
    "sns.heatmap(correlation_matrix_best, cmap='coolwarm')\n",
    "plt.title('Correlation Matrix of 10 higest correlated features')\n",
    "plt.show()"
   ]
  },
  {
   "cell_type": "markdown",
   "metadata": {},
   "source": [
    "## 4. Train Test Split"
   ]
  },
  {
   "cell_type": "code",
   "execution_count": null,
   "metadata": {
    "execution": {
     "iopub.execute_input": "2024-11-27T10:42:51.714204Z",
     "iopub.status.busy": "2024-11-27T10:42:51.713904Z",
     "iopub.status.idle": "2024-11-27T10:42:51.767555Z",
     "shell.execute_reply": "2024-11-27T10:42:51.766533Z",
     "shell.execute_reply.started": "2024-11-27T10:42:51.714171Z"
    },
    "trusted": true
   },
   "outputs": [],
   "source": [
    "X = df.drop(columns=['target'])\n",
    "y = df['target']\n",
    "\n",
    "X_train, X_valid, y_train, y_valid = train_test_split(X, y, stratify=y ,test_size=0.2, random_state=42)"
   ]
  },
  {
   "cell_type": "markdown",
   "metadata": {},
   "source": [
    "## 5. Data Preprocessing"
   ]
  },
  {
   "cell_type": "markdown",
   "metadata": {},
   "source": [
    "### 5.1. Handling Missing Values"
   ]
  },
  {
   "cell_type": "markdown",
   "metadata": {},
   "source": [
    "The missing values in the dataset will be addressed using the following strategies:\n",
    "\n",
    "---\n",
    "\n",
    "#### **1. `job`**\n",
    "- **Missing Values:** 229 null values (0.5% of the data).\n",
    "- **Imputation Strategy:** Replace null values with the **mode** of the column.\n",
    "\n",
    "---\n",
    "\n",
    "#### **2. `education`, `contact`**\n",
    "- These input variables have **\"unknown\"** as a valid category based on the metadata.\n",
    "- **Imputation Strategy:** Replace null values with **\"unknown\"**.\n",
    "\n",
    "---\n",
    "\n",
    "### Important Note:\n",
    "- **Imputation with Mode Limitation:**  \n",
    "  Imputation with the **mode** will not be effective for columns like `poutcome` and `contact` due to their large proportion of missing data:\n",
    "  - **`poutcome`:** 23,578 null values (75% of the data).\n",
    "  - **`contact`:** 8,267 null values (26% of the data).\n",
    "\n",
    "Replacing these with **\"unknown\"** helps preserve the data.\n"
   ]
  },
  {
   "cell_type": "markdown",
   "metadata": {},
   "source": [
    "### 5.2. Encoding Categorical Features"
   ]
  },
  {
   "cell_type": "markdown",
   "metadata": {},
   "source": [
    "The categorical features in the dataset will be encoded as follows:\n",
    "\n",
    "---\n",
    "\n",
    "#### **1. Binary Features**\n",
    "- The following features are binary and will be encoded directly using **binary encoding**:\n",
    "  - **`default`**\n",
    "  - **`housing`**\n",
    "  - **`loan`**\n",
    "\n",
    "---\n",
    "\n",
    "#### **2. Non-Ordinal Categorical Features**\n",
    "- The following features will be encoded using **OneHotEncoding**:\n",
    "  - **`job`**\n",
    "  - **`marital`**\n",
    "  - **`education`**\n",
    " these variables.\n",
    "---"
   ]
  },
  {
   "cell_type": "markdown",
   "metadata": {},
   "source": [
    "### 5.3. Feature Scaling"
   ]
  },
  {
   "cell_type": "markdown",
   "metadata": {},
   "source": [
    "We will use **Standard Scaler** for scaling the dataset due to the following reasons:\n",
    "\n",
    "- **Robustness:** Standard Scaler is very robust and less affected by outliers compared to other scaling methodss.\n",
    "\n",
    "---\n",
    "\n",
    "#### Key Point:\n",
    "- **Scaling Scope:**  \n",
    "  Scaling will be applied **only to numerical features** in the dataset.\n"
   ]
  },
  {
   "cell_type": "markdown",
   "metadata": {},
   "source": [
    "### 5.4. Data Preprocessing Pipeline**"
   ]
  },
  {
   "cell_type": "code",
   "execution_count": null,
   "metadata": {
    "execution": {
     "iopub.execute_input": "2024-11-27T10:40:08.857874Z",
     "iopub.status.busy": "2024-11-27T10:40:08.857403Z",
     "iopub.status.idle": "2024-11-27T10:40:08.863692Z",
     "shell.execute_reply": "2024-11-27T10:40:08.862661Z",
     "shell.execute_reply.started": "2024-11-27T10:40:08.857821Z"
    },
    "trusted": true
   },
   "outputs": [],
   "source": [
    "date_features = ['last_contact_year', 'last_contact_month', 'last_contact_day', 'last_contact_weekday']\n",
    "numeric_features = ['age', 'balance', 'duration', 'campaign']\n",
    "special_num = [\"previous\"]\n",
    "categorical_features = ['job', 'marital', 'education', 'default', 'housing', 'loan', 'contact']\n",
    "special_cat = ['poutcome']"
   ]
  },
  {
   "cell_type": "markdown",
   "metadata": {},
   "source": [
    "### Special Transformations: `previous`\n",
    "\n",
    "The column **`previous`**, which represents the number of contacts performed before this campaign, is being transformed as follows:\n",
    "\n",
    "| Original Value (`previous`) | Transformed Value (`new_val`) | Description                               |\n",
    "|-----------------------------|-------------------------------|-------------------------------------------|\n",
    "| **0**                       | **-1**                       | Indicates no prior contacts               |\n",
    "| **> 0**                     | **+1**                       | Indicates one or more prior contacts      |\n",
    "\n",
    "**Purpose:**  \n",
    "This transformation simplifies the `previous` column into a binary representation for easier modeling.= +1"
   ]
  },
  {
   "cell_type": "code",
   "execution_count": null,
   "metadata": {
    "execution": {
     "iopub.execute_input": "2024-11-27T10:40:08.866087Z",
     "iopub.status.busy": "2024-11-27T10:40:08.865253Z",
     "iopub.status.idle": "2024-11-27T10:40:08.878574Z",
     "shell.execute_reply": "2024-11-27T10:40:08.877486Z",
     "shell.execute_reply.started": "2024-11-27T10:40:08.866039Z"
    },
    "trusted": true
   },
   "outputs": [],
   "source": [
    "def transform_previous(values):\n",
    "    return np.where(values > 0, 1, -1).reshape(-1, 1)  # Converts values based on your criteria\n",
    "previous_transformer = FunctionTransformer(transform_previous)"
   ]
  },
  {
   "cell_type": "markdown",
   "metadata": {},
   "source": [
    "\n",
    "We will extract the following components from the `last contact date`:\n",
    "- **last_contact_year**\n",
    "- **last_contact_month**\n",
    "- **last_contact_day**\n",
    "- **last_contact_weekday**y**\n"
   ]
  },
  {
   "cell_type": "code",
   "execution_count": null,
   "metadata": {
    "execution": {
     "iopub.execute_input": "2024-11-27T10:40:08.879958Z",
     "iopub.status.busy": "2024-11-27T10:40:08.879657Z",
     "iopub.status.idle": "2024-11-27T10:40:08.894083Z",
     "shell.execute_reply": "2024-11-27T10:40:08.892855Z",
     "shell.execute_reply.started": "2024-11-27T10:40:08.879921Z"
    },
    "trusted": true
   },
   "outputs": [],
   "source": [
    "def extract_date(X):\n",
    "  X = X.copy()\n",
    "  X['last_contact_year'] = pd.to_datetime(X['last contact date']).dt.year\n",
    "  X['last_contact_month'] = pd.to_datetime(X['last contact date']).dt.month\n",
    "  X['last_contact_day'] = pd.to_datetime(X['last contact date']).dt.day\n",
    "  X['last_contact_weekday'] = pd.to_datetime(X['last contact date']).dt.weekday\n",
    "  X.drop(columns=['last contact date'], inplace=True)\n",
    "  return X\n",
    "date_transformer = FunctionTransformer(extract_date)"
   ]
  },
  {
   "cell_type": "markdown",
   "metadata": {},
   "source": [
    "#### Special Transformations: `poutcome` and `pdays`\n",
    "\n",
    "#### Transformation for `poutcome`\n",
    "The column **`poutcome`**, which represents the outcome of the previous marketing campaign, is being transformed as follows:\n",
    "\n",
    "| Original Value (`poutcome`)       | Transformed Value (`new_val`) | Description                                   |\n",
    "|-----------------------------------|-------------------------------|-----------------------------------------------|\n",
    "| **failure**                       | **-1**                        | Indicates a failure in the previous campaign  |\n",
    "| **other**, **unknown** *(null)*   | **0**                         | Indicates no clear outcome or unknown result  |\n",
    "| **success**                       | **+1**                        | Indicates a success in the previous campaign  |\n",
    "\n",
    "**Purpose:**  \n",
    "This transformation simplifies `poutcome` into a numerical representation for modeling.\n",
    "\n",
    "---\n",
    "\n",
    "#### Action for `pdays`\n",
    "The column **`pdays`**, which represents the number of days since the last contact, will be **dropped** from the dataset.\n",
    "\n",
    "**Reason:**  \n",
    "The transformed `poutcome` column provides equivalent information, making `pdays` redundant.\n",
    " p_out_come"
   ]
  },
  {
   "cell_type": "code",
   "execution_count": null,
   "metadata": {
    "execution": {
     "iopub.execute_input": "2024-11-27T10:40:08.896085Z",
     "iopub.status.busy": "2024-11-27T10:40:08.895617Z",
     "iopub.status.idle": "2024-11-27T10:40:08.908438Z",
     "shell.execute_reply": "2024-11-27T10:40:08.907246Z",
     "shell.execute_reply.started": "2024-11-27T10:40:08.896039Z"
    },
    "trusted": true
   },
   "outputs": [],
   "source": [
    "def transform_poutcome(values):\n",
    "    # Map \"failure\" to -1, \"other\" and None (null) to 0, and \"success\" to 1\n",
    "    mapping = {'failure': -1, 'other': 0, np.nan: 0, 'success': 1}\n",
    "    return np.vectorize(mapping.get)(values).reshape(-1, 1)  # Vectorize for efficient mapping\n",
    "\n",
    "poutcome_transformer = FunctionTransformer(transform_poutcome)"
   ]
  },
  {
   "cell_type": "code",
   "execution_count": null,
   "metadata": {
    "execution": {
     "iopub.execute_input": "2024-11-27T10:40:08.910454Z",
     "iopub.status.busy": "2024-11-27T10:40:08.910087Z",
     "iopub.status.idle": "2024-11-27T10:40:08.924656Z",
     "shell.execute_reply": "2024-11-27T10:40:08.923509Z",
     "shell.execute_reply.started": "2024-11-27T10:40:08.910421Z"
    },
    "trusted": true
   },
   "outputs": [],
   "source": [
    "preprocess_pipeline = ColumnTransformer([\n",
    "    ('date', Pipeline([\n",
    "        (\"extract\", date_transformer),\n",
    "        (\"scale\", StandardScaler())\n",
    "    ]), ['last contact date']),\n",
    "    \n",
    "    # Numeric features: only scaling\n",
    "    ('num', StandardScaler(), numeric_features),\n",
    "\n",
    "    # Job: mode imputation and one-hot encoding\n",
    "    ('job', Pipeline([\n",
    "        ('imputer', SimpleImputer(strategy='most_frequent')),\n",
    "        ('onehot', OneHotEncoder(drop='first'))\n",
    "    ]), ['job']),\n",
    "\n",
    "    # Education, contact, poutcome: constant imputation and one-hot encoding\n",
    "    ('edu_con', Pipeline([\n",
    "        ('imputer', SimpleImputer(strategy='constant', fill_value='unknown')),\n",
    "        ('onehot', OneHotEncoder(drop='first'))\n",
    "    ]), ['education', 'contact']),\n",
    "\n",
    "    # Default, housing, loan: constant imputation and ordinal encoding\n",
    "    ('def_hou_loan', Pipeline([\n",
    "        ('imputer', SimpleImputer(strategy='constant', fill_value='unknown')),\n",
    "        ('ordinal', OrdinalEncoder())\n",
    "    ]), ['default', 'housing', 'loan']),\n",
    "\n",
    "    # Marital: one-hot encoding (no imputation needed)\n",
    "    ('marital', OneHotEncoder(drop='first'), ['marital']),\n",
    "\n",
    "    (\"previous\", previous_transformer, [\"previous\"]),\n",
    "\n",
    "    (\"poutcome\", poutcome_transformer, [\"poutcome\"])\n",
    "])"
   ]
  },
  {
   "cell_type": "code",
   "execution_count": null,
   "metadata": {
    "execution": {
     "iopub.execute_input": "2024-11-27T10:40:08.926439Z",
     "iopub.status.busy": "2024-11-27T10:40:08.926076Z",
     "iopub.status.idle": "2024-11-27T10:40:09.093933Z",
     "shell.execute_reply": "2024-11-27T10:40:09.092626Z",
     "shell.execute_reply.started": "2024-11-27T10:40:08.926407Z"
    },
    "trusted": true
   },
   "outputs": [],
   "source": [
    "# Fit and transform the data\n",
    "X_transformed = preprocess_pipeline.fit_transform(X_train)\n",
    "\n",
    "# Get feature names\n",
    "feature_names = (\n",
    "    date_features +\n",
    "    numeric_features +\n",
    "    preprocess_pipeline.named_transformers_['job'].named_steps['onehot'].get_feature_names_out(['job']).tolist() +\n",
    "    preprocess_pipeline.named_transformers_['edu_con'].named_steps['onehot'].get_feature_names_out(['education', 'contact']).tolist() +\n",
    "    ['default', 'housing', 'loan'] +\n",
    "    preprocess_pipeline.named_transformers_['marital'].get_feature_names_out(['marital']).tolist() + [\"previous\", \"p_outcome\"]\n",
    ")\n",
    "\n",
    "# Create DataFrame with appropriate column names\n",
    "X_transformed_df = pd.DataFrame(X_transformed, columns=feature_names, index=X_train.index)\n"
   ]
  },
  {
   "cell_type": "code",
   "execution_count": null,
   "metadata": {
    "execution": {
     "iopub.execute_input": "2024-11-27T10:40:09.096068Z",
     "iopub.status.busy": "2024-11-27T10:40:09.095663Z",
     "iopub.status.idle": "2024-11-27T10:40:09.128839Z",
     "shell.execute_reply": "2024-11-27T10:40:09.127427Z",
     "shell.execute_reply.started": "2024-11-27T10:40:09.096033Z"
    },
    "trusted": true
   },
   "outputs": [],
   "source": [
    "X_transformed_df.head(10)"
   ]
  },
  {
   "cell_type": "code",
   "execution_count": null,
   "metadata": {
    "execution": {
     "iopub.execute_input": "2024-11-27T10:40:09.130453Z",
     "iopub.status.busy": "2024-11-27T10:40:09.130110Z",
     "iopub.status.idle": "2024-11-27T10:40:09.152732Z",
     "shell.execute_reply": "2024-11-27T10:40:09.151529Z",
     "shell.execute_reply.started": "2024-11-27T10:40:09.130422Z"
    },
    "trusted": true
   },
   "outputs": [],
   "source": [
    "X_train.head(10)"
   ]
  },
  {
   "cell_type": "markdown",
   "metadata": {},
   "source": [
    "We will use **SMOTE (Synthetic Minority Oversampling Technique)** to address class imbalance by generating synthetic samples for the minority class. This ensures a balanced dataset for better model performance.\n",
    "\n",
    "We will use **SMOTE (Synthetic Minority Oversampling Technique)** to handle class imbalance for the following reasons:\n",
    "\n",
    "- **Our dataset is small**: SMOTE generates synthetic samples, which helps augment the dataset without duplicating data, making it suitable for smaller datasets.\n",
    "- **Prevents overfitting**: Unlike random oversampling, SMOTE reduces the risk of overfitting by creating new, synthetic samples rather than duplicating existing ones.\n",
    "- **Preserves important patterns**: By interpolating between existing samples, SMOTE ensures that the minority class samples are more diverse while maintaining the overall structure of the data.\n",
    "\n",
    "This approach ensures a more balanced dataset and improves the model's ability to learn effectively without biasing predictions toward the majority class."
   ]
  },
  {
   "cell_type": "code",
   "execution_count": null,
   "metadata": {
    "execution": {
     "iopub.execute_input": "2024-11-27T10:40:09.154598Z",
     "iopub.status.busy": "2024-11-27T10:40:09.154149Z",
     "iopub.status.idle": "2024-11-27T10:40:09.162614Z",
     "shell.execute_reply": "2024-11-27T10:40:09.161479Z",
     "shell.execute_reply.started": "2024-11-27T10:40:09.154548Z"
    },
    "trusted": true
   },
   "outputs": [],
   "source": [
    "# Preprocessing Pipeline with SMOTE\n",
    "smote = SMOTE(sampling_strategy=\"auto\", random_state=42)\n",
    "imb_pipe = ImbPipeline([\n",
    "    ('preprocess', preprocess_pipeline),\n",
    "    ('smote', smote)\n",
    "])"
   ]
  },
  {
   "cell_type": "code",
   "execution_count": null,
   "metadata": {
    "execution": {
     "iopub.execute_input": "2024-11-27T10:40:09.164205Z",
     "iopub.status.busy": "2024-11-27T10:40:09.163866Z",
     "iopub.status.idle": "2024-11-27T10:40:09.551728Z",
     "shell.execute_reply": "2024-11-27T10:40:09.550563Z",
     "shell.execute_reply.started": "2024-11-27T10:40:09.164173Z"
    },
    "trusted": true
   },
   "outputs": [],
   "source": [
    "X_resampled, y_resampled = imb_pipe.fit_resample(X_train, y_train)"
   ]
  },
  {
   "cell_type": "code",
   "execution_count": null,
   "metadata": {
    "execution": {
     "iopub.execute_input": "2024-11-27T10:40:09.553581Z",
     "iopub.status.busy": "2024-11-27T10:40:09.553204Z",
     "iopub.status.idle": "2024-11-27T10:40:09.569108Z",
     "shell.execute_reply": "2024-11-27T10:40:09.567640Z",
     "shell.execute_reply.started": "2024-11-27T10:40:09.553546Z"
    },
    "trusted": true
   },
   "outputs": [],
   "source": [
    "from collections import Counter\n",
    "print(\"Class distribution after resampling:\", Counter(y_resampled))"
   ]
  },
  {
   "cell_type": "markdown",
   "metadata": {},
   "source": [
    "## 6. Baseline Model (logistic Regression)"
   ]
  },
  {
   "cell_type": "code",
   "execution_count": null,
   "metadata": {
    "execution": {
     "iopub.execute_input": "2024-11-27T10:40:09.571115Z",
     "iopub.status.busy": "2024-11-27T10:40:09.570691Z",
     "iopub.status.idle": "2024-11-27T10:40:09.581298Z",
     "shell.execute_reply": "2024-11-27T10:40:09.580202Z",
     "shell.execute_reply.started": "2024-11-27T10:40:09.571060Z"
    },
    "trusted": true
   },
   "outputs": [],
   "source": [
    "log_reg_pipe = Pipeline([\n",
    "    ('preprocess', preprocess_pipeline),\n",
    "    ('model', LogisticRegression())\n",
    "])"
   ]
  },
  {
   "cell_type": "code",
   "execution_count": null,
   "metadata": {
    "execution": {
     "iopub.execute_input": "2024-11-27T10:40:09.583090Z",
     "iopub.status.busy": "2024-11-27T10:40:09.582691Z",
     "iopub.status.idle": "2024-11-27T10:40:10.238087Z",
     "shell.execute_reply": "2024-11-27T10:40:10.236667Z",
     "shell.execute_reply.started": "2024-11-27T10:40:09.583054Z"
    },
    "trusted": true
   },
   "outputs": [],
   "source": [
    "log_reg_pipe.fit(X_train, y_train)"
   ]
  },
  {
   "cell_type": "code",
   "execution_count": null,
   "metadata": {
    "execution": {
     "iopub.execute_input": "2024-11-27T10:40:10.239909Z",
     "iopub.status.busy": "2024-11-27T10:40:10.239547Z",
     "iopub.status.idle": "2024-11-27T10:40:10.296892Z",
     "shell.execute_reply": "2024-11-27T10:40:10.295243Z",
     "shell.execute_reply.started": "2024-11-27T10:40:10.239876Z"
    },
    "trusted": true
   },
   "outputs": [],
   "source": [
    "y_pred = log_reg_pipe.predict(X_valid)\n"
   ]
  },
  {
   "cell_type": "code",
   "execution_count": null,
   "metadata": {
    "execution": {
     "iopub.execute_input": "2024-11-27T10:40:10.299676Z",
     "iopub.status.busy": "2024-11-27T10:40:10.298990Z",
     "iopub.status.idle": "2024-11-27T10:40:10.359046Z",
     "shell.execute_reply": "2024-11-27T10:40:10.357532Z",
     "shell.execute_reply.started": "2024-11-27T10:40:10.299606Z"
    },
    "trusted": true
   },
   "outputs": [],
   "source": [
    "accuracy = accuracy_score(y_valid, y_pred)\n",
    "print(f'Accuracy: {accuracy:.2f}')"
   ]
  },
  {
   "cell_type": "markdown",
   "metadata": {},
   "source": [
    "## 7. Linear Model"
   ]
  },
  {
   "cell_type": "markdown",
   "metadata": {},
   "source": [
    "### 7.1. Logistic Regression"
   ]
  },
  {
   "cell_type": "code",
   "execution_count": null,
   "metadata": {
    "execution": {
     "iopub.execute_input": "2024-11-27T10:40:10.361451Z",
     "iopub.status.busy": "2024-11-27T10:40:10.360763Z",
     "iopub.status.idle": "2024-11-27T10:40:10.370939Z",
     "shell.execute_reply": "2024-11-27T10:40:10.369374Z",
     "shell.execute_reply.started": "2024-11-27T10:40:10.361361Z"
    },
    "trusted": true
   },
   "outputs": [],
   "source": [
    "model = LogisticRegression()"
   ]
  },
  {
   "cell_type": "code",
   "execution_count": null,
   "metadata": {
    "execution": {
     "iopub.execute_input": "2024-11-27T10:40:10.377680Z",
     "iopub.status.busy": "2024-11-27T10:40:10.374910Z",
     "iopub.status.idle": "2024-11-27T10:40:10.392185Z",
     "shell.execute_reply": "2024-11-27T10:40:10.390214Z",
     "shell.execute_reply.started": "2024-11-27T10:40:10.377596Z"
    },
    "trusted": true
   },
   "outputs": [],
   "source": [
    "param_grid = {\n",
    "    'C': [0.01, 0.1, 1, 10, 100],\n",
    "    'penalty': ['l1', 'l2', 'elasticnet', 'none'],\n",
    "    'solver': ['liblinear', 'saga'],\n",
    "    'max_iter': [100, 200, 300],\n",
    "}"
   ]
  },
  {
   "cell_type": "code",
   "execution_count": null,
   "metadata": {
    "execution": {
     "iopub.execute_input": "2024-11-27T10:40:10.395741Z",
     "iopub.status.busy": "2024-11-27T10:40:10.393961Z",
     "iopub.status.idle": "2024-11-27T10:40:10.408864Z",
     "shell.execute_reply": "2024-11-27T10:40:10.406855Z",
     "shell.execute_reply.started": "2024-11-27T10:40:10.395686Z"
    },
    "trusted": true
   },
   "outputs": [],
   "source": [
    "grid_search = GridSearchCV(model, param_grid, cv=5, scoring='f1')"
   ]
  },
  {
   "cell_type": "code",
   "execution_count": null,
   "metadata": {
    "execution": {
     "iopub.execute_input": "2024-11-27T10:40:10.410863Z",
     "iopub.status.busy": "2024-11-27T10:40:10.410380Z",
     "iopub.status.idle": "2024-11-27T10:40:10.570736Z",
     "shell.execute_reply": "2024-11-27T10:40:10.569637Z",
     "shell.execute_reply.started": "2024-11-27T10:40:10.410807Z"
    },
    "trusted": true
   },
   "outputs": [],
   "source": [
    "X_train_trans = preprocess_pipeline.fit_transform(X_train)"
   ]
  },
  {
   "cell_type": "code",
   "execution_count": null,
   "metadata": {
    "execution": {
     "iopub.execute_input": "2024-11-27T10:40:10.572728Z",
     "iopub.status.busy": "2024-11-27T10:40:10.572239Z",
     "iopub.status.idle": "2024-11-27T10:40:10.578200Z",
     "shell.execute_reply": "2024-11-27T10:40:10.577000Z",
     "shell.execute_reply.started": "2024-11-27T10:40:10.572667Z"
    },
    "trusted": true
   },
   "outputs": [],
   "source": [
    "grid_search.fit(X_train_trans, y_train)"
   ]
  },
  {
   "cell_type": "code",
   "execution_count": null,
   "metadata": {
    "execution": {
     "iopub.execute_input": "2024-11-27T10:40:10.579980Z",
     "iopub.status.busy": "2024-11-27T10:40:10.579597Z",
     "iopub.status.idle": "2024-11-27T10:40:10.591037Z",
     "shell.execute_reply": "2024-11-27T10:40:10.589773Z",
     "shell.execute_reply.started": "2024-11-27T10:40:10.579948Z"
    },
    "trusted": true
   },
   "outputs": [],
   "source": [
    "grid_search.best_params_"
   ]
  },
  {
   "cell_type": "code",
   "execution_count": null,
   "metadata": {
    "execution": {
     "iopub.execute_input": "2024-11-27T10:40:10.592685Z",
     "iopub.status.busy": "2024-11-27T10:40:10.592345Z",
     "iopub.status.idle": "2024-11-27T10:40:10.604447Z",
     "shell.execute_reply": "2024-11-27T10:40:10.603197Z",
     "shell.execute_reply.started": "2024-11-27T10:40:10.592653Z"
    },
    "trusted": true
   },
   "outputs": [],
   "source": [
    "log_reg_grid_pipe = Pipeline([\n",
    "    ('preprocess', preprocess_pipeline),\n",
    "    ('model', LogisticRegression(C=0.01, max_iter=100, penalty='l1', solver='liblinear'))\n",
    "])"
   ]
  },
  {
   "cell_type": "code",
   "execution_count": null,
   "metadata": {
    "execution": {
     "iopub.execute_input": "2024-11-27T10:40:10.606042Z",
     "iopub.status.busy": "2024-11-27T10:40:10.605672Z",
     "iopub.status.idle": "2024-11-27T10:40:11.028032Z",
     "shell.execute_reply": "2024-11-27T10:40:11.026904Z",
     "shell.execute_reply.started": "2024-11-27T10:40:10.606002Z"
    },
    "trusted": true
   },
   "outputs": [],
   "source": [
    "log_reg_grid_pipe.fit(X_train, y_train)"
   ]
  },
  {
   "cell_type": "code",
   "execution_count": null,
   "metadata": {
    "execution": {
     "iopub.execute_input": "2024-11-27T10:40:11.030054Z",
     "iopub.status.busy": "2024-11-27T10:40:11.029591Z",
     "iopub.status.idle": "2024-11-27T10:40:11.141297Z",
     "shell.execute_reply": "2024-11-27T10:40:11.139093Z",
     "shell.execute_reply.started": "2024-11-27T10:40:11.030008Z"
    },
    "trusted": true
   },
   "outputs": [],
   "source": [
    "log_reg_grid_pipe.score(X_valid, y_valid)"
   ]
  },
  {
   "cell_type": "code",
   "execution_count": null,
   "metadata": {
    "execution": {
     "iopub.execute_input": "2024-11-27T10:40:11.143743Z",
     "iopub.status.busy": "2024-11-27T10:40:11.143114Z",
     "iopub.status.idle": "2024-11-27T10:40:11.617430Z",
     "shell.execute_reply": "2024-11-27T10:40:11.616145Z",
     "shell.execute_reply.started": "2024-11-27T10:40:11.143681Z"
    },
    "trusted": true
   },
   "outputs": [],
   "source": [
    "print(classification_report(y_valid, log_reg_pipe.predict(X_valid)))"
   ]
  },
  {
   "cell_type": "markdown",
   "metadata": {},
   "source": [
    "## 8. Stochastic Gradient Descent"
   ]
  },
  {
   "cell_type": "markdown",
   "metadata": {},
   "source": [
    "### 8.1. SGD Classifier"
   ]
  },
  {
   "cell_type": "code",
   "execution_count": null,
   "metadata": {
    "execution": {
     "iopub.execute_input": "2024-11-27T10:40:11.619177Z",
     "iopub.status.busy": "2024-11-27T10:40:11.618840Z",
     "iopub.status.idle": "2024-11-27T10:40:11.624480Z",
     "shell.execute_reply": "2024-11-27T10:40:11.623195Z",
     "shell.execute_reply.started": "2024-11-27T10:40:11.619145Z"
    },
    "trusted": true
   },
   "outputs": [],
   "source": [
    "model = SGDClassifier()"
   ]
  },
  {
   "cell_type": "code",
   "execution_count": null,
   "metadata": {
    "execution": {
     "iopub.execute_input": "2024-11-27T10:40:11.626863Z",
     "iopub.status.busy": "2024-11-27T10:40:11.626465Z",
     "iopub.status.idle": "2024-11-27T10:40:11.754617Z",
     "shell.execute_reply": "2024-11-27T10:40:11.753495Z",
     "shell.execute_reply.started": "2024-11-27T10:40:11.626830Z"
    },
    "trusted": true
   },
   "outputs": [],
   "source": [
    "X_train_trans = preprocess_pipeline.transform(X_train)"
   ]
  },
  {
   "cell_type": "code",
   "execution_count": null,
   "metadata": {
    "execution": {
     "iopub.execute_input": "2024-11-27T10:40:11.756450Z",
     "iopub.status.busy": "2024-11-27T10:40:11.755972Z",
     "iopub.status.idle": "2024-11-27T10:40:11.762028Z",
     "shell.execute_reply": "2024-11-27T10:40:11.760843Z",
     "shell.execute_reply.started": "2024-11-27T10:40:11.756403Z"
    },
    "trusted": true
   },
   "outputs": [],
   "source": [
    "param_grid = {\n",
    "    'loss': ['hinge', 'modified_huber'],  # Different loss functions for classification\n",
    "    'penalty': ['l2', 'l1'],  # Regularization types\n",
    "    'alpha': [0.0001, 0.001, 0.01],  # Regularization strength\n",
    "    'eta0': [0.001, 0.01, 0.1],  # Initial learning rate\n",
    "    'max_iter': [1000, 3000],  # Maximum iterations\n",
    "    'tol': [1e-3, 1e-5]  # Tolerance for stopping criteria\n",
    "}"
   ]
  },
  {
   "cell_type": "code",
   "execution_count": null,
   "metadata": {
    "execution": {
     "iopub.execute_input": "2024-11-27T10:40:11.763972Z",
     "iopub.status.busy": "2024-11-27T10:40:11.763534Z",
     "iopub.status.idle": "2024-11-27T10:40:11.773671Z",
     "shell.execute_reply": "2024-11-27T10:40:11.772622Z",
     "shell.execute_reply.started": "2024-11-27T10:40:11.763922Z"
    },
    "trusted": true
   },
   "outputs": [],
   "source": [
    "grid_search = GridSearchCV(model, param_grid, cv=5, scoring='f1', n_jobs=-1, verbose=1)"
   ]
  },
  {
   "cell_type": "code",
   "execution_count": null,
   "metadata": {
    "_kg_hide-input": true,
    "_kg_hide-output": true,
    "execution": {
     "iopub.execute_input": "2024-11-27T10:40:11.775531Z",
     "iopub.status.busy": "2024-11-27T10:40:11.775093Z",
     "iopub.status.idle": "2024-11-27T10:40:11.785522Z",
     "shell.execute_reply": "2024-11-27T10:40:11.784357Z",
     "shell.execute_reply.started": "2024-11-27T10:40:11.775484Z"
    },
    "trusted": true
   },
   "outputs": [],
   "source": [
    "grid_search.fit(X_train_trans, y_train)"
   ]
  },
  {
   "cell_type": "code",
   "execution_count": null,
   "metadata": {
    "execution": {
     "iopub.execute_input": "2024-11-27T10:40:11.787411Z",
     "iopub.status.busy": "2024-11-27T10:40:11.787039Z",
     "iopub.status.idle": "2024-11-27T10:40:11.799234Z",
     "shell.execute_reply": "2024-11-27T10:40:11.798143Z",
     "shell.execute_reply.started": "2024-11-27T10:40:11.787379Z"
    },
    "trusted": true
   },
   "outputs": [],
   "source": [
    "grid_search.best_params_"
   ]
  },
  {
   "cell_type": "code",
   "execution_count": null,
   "metadata": {
    "execution": {
     "iopub.execute_input": "2024-11-27T10:40:11.801105Z",
     "iopub.status.busy": "2024-11-27T10:40:11.800739Z",
     "iopub.status.idle": "2024-11-27T10:40:11.816591Z",
     "shell.execute_reply": "2024-11-27T10:40:11.815362Z",
     "shell.execute_reply.started": "2024-11-27T10:40:11.801073Z"
    },
    "trusted": true
   },
   "outputs": [],
   "source": [
    "sgd_pipe = Pipeline([\n",
    "    ('preprocess', preprocess_pipeline),\n",
    "    ('model', SGDClassifier(alpha=0.0001, eta0=0.001, loss=\"hinge\", max_iter=1000, penalty=\"l2\", tol=0.001))\n",
    "])"
   ]
  },
  {
   "cell_type": "code",
   "execution_count": null,
   "metadata": {
    "execution": {
     "iopub.execute_input": "2024-11-27T10:40:11.819430Z",
     "iopub.status.busy": "2024-11-27T10:40:11.818122Z",
     "iopub.status.idle": "2024-11-27T10:40:12.363520Z",
     "shell.execute_reply": "2024-11-27T10:40:12.362537Z",
     "shell.execute_reply.started": "2024-11-27T10:40:11.819388Z"
    },
    "trusted": true
   },
   "outputs": [],
   "source": [
    "sgd_pipe.fit(X_train, y_train)"
   ]
  },
  {
   "cell_type": "code",
   "execution_count": null,
   "metadata": {
    "execution": {
     "iopub.execute_input": "2024-11-27T10:40:12.366005Z",
     "iopub.status.busy": "2024-11-27T10:40:12.365538Z",
     "iopub.status.idle": "2024-11-27T10:40:12.648814Z",
     "shell.execute_reply": "2024-11-27T10:40:12.647596Z",
     "shell.execute_reply.started": "2024-11-27T10:40:12.365958Z"
    },
    "trusted": true
   },
   "outputs": [],
   "source": [
    "sgd_pipe.score(X_train, y_train)"
   ]
  },
  {
   "cell_type": "code",
   "execution_count": null,
   "metadata": {
    "execution": {
     "iopub.execute_input": "2024-11-27T10:40:12.650345Z",
     "iopub.status.busy": "2024-11-27T10:40:12.649961Z",
     "iopub.status.idle": "2024-11-27T10:40:12.764589Z",
     "shell.execute_reply": "2024-11-27T10:40:12.763089Z",
     "shell.execute_reply.started": "2024-11-27T10:40:12.650308Z"
    },
    "trusted": true
   },
   "outputs": [],
   "source": [
    "sgd_pipe.score(X_valid, y_valid)"
   ]
  },
  {
   "cell_type": "markdown",
   "metadata": {},
   "source": [
    "## 9. Support Vector Machines (SVM)"
   ]
  },
  {
   "cell_type": "markdown",
   "metadata": {},
   "source": [
    "### 9.1 Support Vector Classifier (SVC)"
   ]
  },
  {
   "cell_type": "code",
   "execution_count": null,
   "metadata": {
    "execution": {
     "iopub.execute_input": "2024-11-27T10:40:12.767842Z",
     "iopub.status.busy": "2024-11-27T10:40:12.765951Z",
     "iopub.status.idle": "2024-11-27T10:40:12.780251Z",
     "shell.execute_reply": "2024-11-27T10:40:12.774158Z",
     "shell.execute_reply.started": "2024-11-27T10:40:12.767765Z"
    },
    "trusted": true
   },
   "outputs": [],
   "source": [
    "svc_model = SVC(kernel='linear', random_state=42)"
   ]
  },
  {
   "cell_type": "code",
   "execution_count": null,
   "metadata": {
    "execution": {
     "iopub.execute_input": "2024-11-27T10:40:12.782645Z",
     "iopub.status.busy": "2024-11-27T10:40:12.782037Z",
     "iopub.status.idle": "2024-11-27T10:40:12.795912Z",
     "shell.execute_reply": "2024-11-27T10:40:12.793591Z",
     "shell.execute_reply.started": "2024-11-27T10:40:12.782580Z"
    },
    "trusted": true
   },
   "outputs": [],
   "source": [
    "svc_pipe = Pipeline([\n",
    "    ('preprocess', preprocess_pipeline),\n",
    "    ('model', svc_model)\n",
    "])"
   ]
  },
  {
   "cell_type": "code",
   "execution_count": null,
   "metadata": {
    "execution": {
     "iopub.execute_input": "2024-11-27T10:40:12.800941Z",
     "iopub.status.busy": "2024-11-27T10:40:12.800294Z",
     "iopub.status.idle": "2024-11-27T10:40:59.599037Z",
     "shell.execute_reply": "2024-11-27T10:40:59.597892Z",
     "shell.execute_reply.started": "2024-11-27T10:40:12.800877Z"
    },
    "trusted": true
   },
   "outputs": [],
   "source": [
    "svc_pipe.fit(X_train, y_train)"
   ]
  },
  {
   "cell_type": "code",
   "execution_count": null,
   "metadata": {
    "execution": {
     "iopub.execute_input": "2024-11-27T10:40:59.601009Z",
     "iopub.status.busy": "2024-11-27T10:40:59.600641Z",
     "iopub.status.idle": "2024-11-27T10:41:10.509635Z",
     "shell.execute_reply": "2024-11-27T10:41:10.508486Z",
     "shell.execute_reply.started": "2024-11-27T10:40:59.600975Z"
    },
    "trusted": true
   },
   "outputs": [],
   "source": [
    "svc_pipe.score(X_train, y_train)"
   ]
  },
  {
   "cell_type": "code",
   "execution_count": null,
   "metadata": {
    "execution": {
     "iopub.execute_input": "2024-11-27T10:41:10.511415Z",
     "iopub.status.busy": "2024-11-27T10:41:10.511037Z",
     "iopub.status.idle": "2024-11-27T10:41:13.206735Z",
     "shell.execute_reply": "2024-11-27T10:41:13.205362Z",
     "shell.execute_reply.started": "2024-11-27T10:41:10.511382Z"
    },
    "trusted": true
   },
   "outputs": [],
   "source": [
    "preds = svc_pipe.predict(X_valid)"
   ]
  },
  {
   "cell_type": "code",
   "execution_count": null,
   "metadata": {
    "execution": {
     "iopub.execute_input": "2024-11-27T10:41:13.208835Z",
     "iopub.status.busy": "2024-11-27T10:41:13.208359Z",
     "iopub.status.idle": "2024-11-27T10:41:13.236963Z",
     "shell.execute_reply": "2024-11-27T10:41:13.235700Z",
     "shell.execute_reply.started": "2024-11-27T10:41:13.208774Z"
    },
    "trusted": true
   },
   "outputs": [],
   "source": [
    "accuracy = accuracy_score(y_valid, preds)\n",
    "accuracy"
   ]
  },
  {
   "cell_type": "code",
   "execution_count": null,
   "metadata": {
    "execution": {
     "iopub.execute_input": "2024-11-27T10:41:13.238797Z",
     "iopub.status.busy": "2024-11-27T10:41:13.238346Z",
     "iopub.status.idle": "2024-11-27T10:41:13.566336Z",
     "shell.execute_reply": "2024-11-27T10:41:13.564975Z",
     "shell.execute_reply.started": "2024-11-27T10:41:13.238736Z"
    },
    "trusted": true
   },
   "outputs": [],
   "source": [
    "print(classification_report(y_valid, preds))"
   ]
  },
  {
   "cell_type": "markdown",
   "metadata": {},
   "source": [
    "## 10. Decision Trees"
   ]
  },
  {
   "cell_type": "markdown",
   "metadata": {},
   "source": [
    "### 10.1. Decision Tree Classifier"
   ]
  },
  {
   "cell_type": "code",
   "execution_count": null,
   "metadata": {
    "execution": {
     "iopub.execute_input": "2024-11-27T10:41:13.568159Z",
     "iopub.status.busy": "2024-11-27T10:41:13.567746Z",
     "iopub.status.idle": "2024-11-27T10:41:13.573065Z",
     "shell.execute_reply": "2024-11-27T10:41:13.571878Z",
     "shell.execute_reply.started": "2024-11-27T10:41:13.568126Z"
    },
    "trusted": true
   },
   "outputs": [],
   "source": [
    "decision_tree_model = DecisionTreeClassifier(max_depth=8, random_state=42)"
   ]
  },
  {
   "cell_type": "code",
   "execution_count": null,
   "metadata": {
    "execution": {
     "iopub.execute_input": "2024-11-27T10:41:13.575026Z",
     "iopub.status.busy": "2024-11-27T10:41:13.574519Z",
     "iopub.status.idle": "2024-11-27T10:41:13.586676Z",
     "shell.execute_reply": "2024-11-27T10:41:13.585212Z",
     "shell.execute_reply.started": "2024-11-27T10:41:13.574978Z"
    },
    "trusted": true
   },
   "outputs": [],
   "source": [
    "decision_tree_pipe = Pipeline([\n",
    "    ('preprocess', preprocess_pipeline),\n",
    "    ('model', decision_tree_model),\n",
    "])"
   ]
  },
  {
   "cell_type": "code",
   "execution_count": null,
   "metadata": {
    "execution": {
     "iopub.execute_input": "2024-11-27T10:41:13.588743Z",
     "iopub.status.busy": "2024-11-27T10:41:13.588237Z",
     "iopub.status.idle": "2024-11-27T10:41:14.085434Z",
     "shell.execute_reply": "2024-11-27T10:41:14.084201Z",
     "shell.execute_reply.started": "2024-11-27T10:41:13.588696Z"
    },
    "trusted": true
   },
   "outputs": [],
   "source": [
    "decision_tree_pipe.fit(X_train, y_train)"
   ]
  },
  {
   "cell_type": "code",
   "execution_count": null,
   "metadata": {
    "execution": {
     "iopub.execute_input": "2024-11-27T10:41:14.087360Z",
     "iopub.status.busy": "2024-11-27T10:41:14.086867Z",
     "iopub.status.idle": "2024-11-27T10:41:14.296610Z",
     "shell.execute_reply": "2024-11-27T10:41:14.295362Z",
     "shell.execute_reply.started": "2024-11-27T10:41:14.087307Z"
    },
    "trusted": true
   },
   "outputs": [],
   "source": [
    "decision_tree_pipe.score(X_train, y_train)"
   ]
  },
  {
   "cell_type": "code",
   "execution_count": null,
   "metadata": {
    "execution": {
     "iopub.execute_input": "2024-11-27T10:41:14.298467Z",
     "iopub.status.busy": "2024-11-27T10:41:14.298002Z",
     "iopub.status.idle": "2024-11-27T10:41:14.663857Z",
     "shell.execute_reply": "2024-11-27T10:41:14.662599Z",
     "shell.execute_reply.started": "2024-11-27T10:41:14.298416Z"
    },
    "trusted": true
   },
   "outputs": [],
   "source": [
    "print(classification_report(y_valid, decision_tree_pipe.predict(X_valid)))"
   ]
  },
  {
   "cell_type": "markdown",
   "metadata": {},
   "source": [
    "## 11. Random Forest"
   ]
  },
  {
   "cell_type": "markdown",
   "metadata": {},
   "source": [
    "### Random Forest Classifier"
   ]
  },
  {
   "cell_type": "code",
   "execution_count": null,
   "metadata": {
    "execution": {
     "iopub.execute_input": "2024-11-27T10:41:14.665799Z",
     "iopub.status.busy": "2024-11-27T10:41:14.665365Z",
     "iopub.status.idle": "2024-11-27T10:41:14.671424Z",
     "shell.execute_reply": "2024-11-27T10:41:14.669984Z",
     "shell.execute_reply.started": "2024-11-27T10:41:14.665753Z"
    },
    "trusted": true
   },
   "outputs": [],
   "source": [
    "rand_frst_clf = RandomForestClassifier()"
   ]
  },
  {
   "cell_type": "code",
   "execution_count": null,
   "metadata": {
    "execution": {
     "iopub.execute_input": "2024-11-27T10:41:14.686248Z",
     "iopub.status.busy": "2024-11-27T10:41:14.685397Z",
     "iopub.status.idle": "2024-11-27T10:41:14.695300Z",
     "shell.execute_reply": "2024-11-27T10:41:14.694115Z",
     "shell.execute_reply.started": "2024-11-27T10:41:14.686206Z"
    },
    "trusted": true
   },
   "outputs": [],
   "source": [
    "rand_frst_pipe = Pipeline([\n",
    "    ('preprocess', preprocess_pipeline),\n",
    "    ('model', rand_frst_clf)\n",
    "])"
   ]
  },
  {
   "cell_type": "code",
   "execution_count": null,
   "metadata": {
    "execution": {
     "iopub.execute_input": "2024-11-27T10:41:14.697458Z",
     "iopub.status.busy": "2024-11-27T10:41:14.696972Z",
     "iopub.status.idle": "2024-11-27T10:41:19.147765Z",
     "shell.execute_reply": "2024-11-27T10:41:19.146366Z",
     "shell.execute_reply.started": "2024-11-27T10:41:14.697411Z"
    },
    "trusted": true
   },
   "outputs": [],
   "source": [
    "rand_frst_pipe.fit(X_train, y_train)"
   ]
  },
  {
   "cell_type": "code",
   "execution_count": null,
   "metadata": {
    "execution": {
     "iopub.execute_input": "2024-11-27T10:41:19.149706Z",
     "iopub.status.busy": "2024-11-27T10:41:19.149363Z",
     "iopub.status.idle": "2024-11-27T10:41:19.916959Z",
     "shell.execute_reply": "2024-11-27T10:41:19.915692Z",
     "shell.execute_reply.started": "2024-11-27T10:41:19.149674Z"
    },
    "trusted": true
   },
   "outputs": [],
   "source": [
    "rand_frst_pipe.score(X_train, y_train)"
   ]
  },
  {
   "cell_type": "code",
   "execution_count": null,
   "metadata": {
    "execution": {
     "iopub.execute_input": "2024-11-27T10:41:19.918951Z",
     "iopub.status.busy": "2024-11-27T10:41:19.918522Z",
     "iopub.status.idle": "2024-11-27T10:41:20.172758Z",
     "shell.execute_reply": "2024-11-27T10:41:20.171465Z",
     "shell.execute_reply.started": "2024-11-27T10:41:19.918907Z"
    },
    "trusted": true
   },
   "outputs": [],
   "source": [
    "rand_frst_pipe.score(X_valid, y_valid)"
   ]
  },
  {
   "cell_type": "markdown",
   "metadata": {},
   "source": [
    "## 12. XGBoost"
   ]
  },
  {
   "cell_type": "code",
   "execution_count": null,
   "metadata": {
    "execution": {
     "iopub.execute_input": "2024-11-27T10:41:20.174973Z",
     "iopub.status.busy": "2024-11-27T10:41:20.174478Z",
     "iopub.status.idle": "2024-11-27T10:41:20.180921Z",
     "shell.execute_reply": "2024-11-27T10:41:20.179471Z",
     "shell.execute_reply.started": "2024-11-27T10:41:20.174920Z"
    },
    "trusted": true
   },
   "outputs": [],
   "source": [
    "xg_boost = XGBClassifier()"
   ]
  },
  {
   "cell_type": "code",
   "execution_count": null,
   "metadata": {
    "execution": {
     "iopub.execute_input": "2024-11-27T10:41:20.183057Z",
     "iopub.status.busy": "2024-11-27T10:41:20.182604Z",
     "iopub.status.idle": "2024-11-27T10:41:20.195629Z",
     "shell.execute_reply": "2024-11-27T10:41:20.194348Z",
     "shell.execute_reply.started": "2024-11-27T10:41:20.183008Z"
    },
    "trusted": true
   },
   "outputs": [],
   "source": [
    "xg_pipe = ImbPipeline([\n",
    "    (\"preprocess\", preprocess_pipeline),\n",
    "    ('smote', SMOTE(sampling_strategy='auto', random_state=42)),\n",
    "    ('model', xg_boost)\n",
    "])"
   ]
  },
  {
   "cell_type": "code",
   "execution_count": null,
   "metadata": {
    "execution": {
     "iopub.execute_input": "2024-11-27T10:41:20.198360Z",
     "iopub.status.busy": "2024-11-27T10:41:20.197325Z",
     "iopub.status.idle": "2024-11-27T10:41:24.041561Z",
     "shell.execute_reply": "2024-11-27T10:41:24.040315Z",
     "shell.execute_reply.started": "2024-11-27T10:41:20.198309Z"
    },
    "trusted": true
   },
   "outputs": [],
   "source": [
    "y_train_trans = y_train.map({\"yes\": 1, \"no\": 0})\n",
    "xg_pipe.fit(X_train, y_train_trans)"
   ]
  },
  {
   "cell_type": "code",
   "execution_count": null,
   "metadata": {
    "execution": {
     "iopub.execute_input": "2024-11-27T10:41:24.043640Z",
     "iopub.status.busy": "2024-11-27T10:41:24.043172Z",
     "iopub.status.idle": "2024-11-27T10:41:24.243931Z",
     "shell.execute_reply": "2024-11-27T10:41:24.241702Z",
     "shell.execute_reply.started": "2024-11-27T10:41:24.043593Z"
    },
    "trusted": true
   },
   "outputs": [],
   "source": [
    "xg_pipe.score(X_train, y_train_trans)"
   ]
  },
  {
   "cell_type": "code",
   "execution_count": null,
   "metadata": {
    "execution": {
     "iopub.execute_input": "2024-11-27T10:41:24.245369Z",
     "iopub.status.busy": "2024-11-27T10:41:24.244992Z",
     "iopub.status.idle": "2024-11-27T10:41:24.332229Z",
     "shell.execute_reply": "2024-11-27T10:41:24.331305Z",
     "shell.execute_reply.started": "2024-11-27T10:41:24.245332Z"
    },
    "trusted": true
   },
   "outputs": [],
   "source": [
    "y_valid_trans = y_valid.map({\"yes\": 1, \"no\": 0})\n",
    "xg_pipe.score(X_valid, y_valid_trans)"
   ]
  },
  {
   "cell_type": "code",
   "execution_count": null,
   "metadata": {
    "execution": {
     "iopub.execute_input": "2024-11-27T10:41:24.338429Z",
     "iopub.status.busy": "2024-11-27T10:41:24.335570Z",
     "iopub.status.idle": "2024-11-27T10:41:24.429347Z",
     "shell.execute_reply": "2024-11-27T10:41:24.428143Z",
     "shell.execute_reply.started": "2024-11-27T10:41:24.338378Z"
    },
    "trusted": true
   },
   "outputs": [],
   "source": [
    "print(classification_report(y_valid_trans, xg_pipe.predict(X_valid)))"
   ]
  },
  {
   "cell_type": "markdown",
   "metadata": {},
   "source": [
    "## 12. Fine Tuning the best models"
   ]
  },
  {
   "cell_type": "markdown",
   "metadata": {},
   "source": [
    "### SVC Support Vector Classifier"
   ]
  },
  {
   "cell_type": "code",
   "execution_count": null,
   "metadata": {
    "execution": {
     "iopub.execute_input": "2024-11-27T10:41:24.431462Z",
     "iopub.status.busy": "2024-11-27T10:41:24.431061Z",
     "iopub.status.idle": "2024-11-27T10:41:24.436793Z",
     "shell.execute_reply": "2024-11-27T10:41:24.435263Z",
     "shell.execute_reply.started": "2024-11-27T10:41:24.431429Z"
    },
    "trusted": true
   },
   "outputs": [],
   "source": [
    "svc_model = SVC(random_state=42)"
   ]
  },
  {
   "cell_type": "code",
   "execution_count": null,
   "metadata": {
    "execution": {
     "iopub.execute_input": "2024-11-27T10:41:24.439080Z",
     "iopub.status.busy": "2024-11-27T10:41:24.438584Z",
     "iopub.status.idle": "2024-11-27T10:41:24.450679Z",
     "shell.execute_reply": "2024-11-27T10:41:24.449333Z",
     "shell.execute_reply.started": "2024-11-27T10:41:24.439030Z"
    },
    "trusted": true
   },
   "outputs": [],
   "source": [
    "sp = SelectPercentile(f_classif)"
   ]
  },
  {
   "cell_type": "code",
   "execution_count": null,
   "metadata": {
    "execution": {
     "iopub.execute_input": "2024-11-27T10:41:24.452559Z",
     "iopub.status.busy": "2024-11-27T10:41:24.452173Z",
     "iopub.status.idle": "2024-11-27T10:41:24.474255Z",
     "shell.execute_reply": "2024-11-27T10:41:24.472967Z",
     "shell.execute_reply.started": "2024-11-27T10:41:24.452526Z"
    },
    "trusted": true
   },
   "outputs": [],
   "source": [
    "svc_pipe = ImbPipeline([\n",
    "    (\"poly_features\", PolynomialFeatures(include_bias=False)),\n",
    "    ('smote', SMOTE(sampling_strategy='auto', random_state=42)),\n",
    "    ('sp', sp),\n",
    "    ('model', svc_model)\n",
    "])\n"
   ]
  },
  {
   "cell_type": "code",
   "execution_count": null,
   "metadata": {
    "execution": {
     "iopub.execute_input": "2024-11-27T10:41:24.476179Z",
     "iopub.status.busy": "2024-11-27T10:41:24.475721Z",
     "iopub.status.idle": "2024-11-27T10:41:24.495130Z",
     "shell.execute_reply": "2024-11-27T10:41:24.493959Z",
     "shell.execute_reply.started": "2024-11-27T10:41:24.476134Z"
    },
    "trusted": true
   },
   "outputs": [],
   "source": [
    "param_grid = {\n",
    "    # PolynomialFeatures: Experiment with degrees\n",
    "    'poly_features__degree': [1, 2],  # Linear, quadratic\n",
    "\n",
    "    # SelectPercentile: Tune the percentage of features to select\n",
    "    'sp__percentile': [50, 75, 100],  # Select 50%, 75%, or all features\n",
    "\n",
    "    # SVC Hyperparameters\n",
    "    'model__C': [0.01, 0.1, 1],  # Regularization parameter\n",
    "}"
   ]
  },
  {
   "cell_type": "code",
   "execution_count": null,
   "metadata": {
    "execution": {
     "iopub.execute_input": "2024-11-27T10:41:24.497079Z",
     "iopub.status.busy": "2024-11-27T10:41:24.496657Z",
     "iopub.status.idle": "2024-11-27T10:41:24.511228Z",
     "shell.execute_reply": "2024-11-27T10:41:24.510062Z",
     "shell.execute_reply.started": "2024-11-27T10:41:24.497034Z"
    },
    "trusted": true
   },
   "outputs": [],
   "source": [
    "grid_search_svc = GridSearchCV(\n",
    "    estimator=svc_pipe,\n",
    "    param_grid=param_grid,\n",
    "    scoring='f1',  \n",
    "    cv=2, \n",
    "    verbose=10,\n",
    "    n_jobs=-1  # Use all available cores for faster computation\n",
    ")"
   ]
  },
  {
   "cell_type": "code",
   "execution_count": null,
   "metadata": {
    "execution": {
     "iopub.execute_input": "2024-11-27T10:41:24.513438Z",
     "iopub.status.busy": "2024-11-27T10:41:24.512916Z",
     "iopub.status.idle": "2024-11-27T10:41:24.530595Z",
     "shell.execute_reply": "2024-11-27T10:41:24.529345Z",
     "shell.execute_reply.started": "2024-11-27T10:41:24.513388Z"
    },
    "trusted": true
   },
   "outputs": [],
   "source": [
    "X_train_trans = preprocess_pipeline.fit_transform(X_train)\n",
    "grid_search_svc.fit(X_train_trans, y_train)"
   ]
  },
  {
   "cell_type": "code",
   "execution_count": null,
   "metadata": {
    "execution": {
     "iopub.execute_input": "2024-11-27T10:41:24.533118Z",
     "iopub.status.busy": "2024-11-27T10:41:24.532646Z",
     "iopub.status.idle": "2024-11-27T10:41:24.545856Z",
     "shell.execute_reply": "2024-11-27T10:41:24.544520Z",
     "shell.execute_reply.started": "2024-11-27T10:41:24.533069Z"
    },
    "trusted": true
   },
   "outputs": [],
   "source": [
    "grid_search_svc.best_estimator_"
   ]
  },
  {
   "cell_type": "code",
   "execution_count": null,
   "metadata": {
    "execution": {
     "iopub.execute_input": "2024-11-27T10:41:24.547800Z",
     "iopub.status.busy": "2024-11-27T10:41:24.547360Z",
     "iopub.status.idle": "2024-11-27T10:41:24.561763Z",
     "shell.execute_reply": "2024-11-27T10:41:24.560356Z",
     "shell.execute_reply.started": "2024-11-27T10:41:24.547753Z"
    },
    "trusted": true
   },
   "outputs": [],
   "source": [
    "best_svc_pipe = Pipeline([\n",
    "    (\"preprocess\", preprocess_pipeline),\n",
    "    (\"poly_features\", PolynomialFeatures(degree=1, include_bias=False)),\n",
    "    ('sp', SelectPercentile(f_classif, percentile=75)),\n",
    "    ('model', SVC(C=0.1, random_state=42))\n",
    "])"
   ]
  },
  {
   "cell_type": "code",
   "execution_count": null,
   "metadata": {
    "execution": {
     "iopub.execute_input": "2024-11-27T10:41:24.564300Z",
     "iopub.status.busy": "2024-11-27T10:41:24.563807Z",
     "iopub.status.idle": "2024-11-27T10:41:41.740221Z",
     "shell.execute_reply": "2024-11-27T10:41:41.739098Z",
     "shell.execute_reply.started": "2024-11-27T10:41:24.564233Z"
    },
    "trusted": true
   },
   "outputs": [],
   "source": [
    "best_svc_pipe.fit(X_train, y_train)"
   ]
  },
  {
   "cell_type": "code",
   "execution_count": null,
   "metadata": {
    "execution": {
     "iopub.execute_input": "2024-11-27T10:41:41.742247Z",
     "iopub.status.busy": "2024-11-27T10:41:41.741792Z",
     "iopub.status.idle": "2024-11-27T10:41:59.993553Z",
     "shell.execute_reply": "2024-11-27T10:41:59.992337Z",
     "shell.execute_reply.started": "2024-11-27T10:41:41.742199Z"
    },
    "trusted": true
   },
   "outputs": [],
   "source": [
    "best_svc_pipe.score(X_train, y_train)"
   ]
  },
  {
   "cell_type": "code",
   "execution_count": null,
   "metadata": {
    "execution": {
     "iopub.execute_input": "2024-11-27T10:41:59.995771Z",
     "iopub.status.busy": "2024-11-27T10:41:59.995418Z",
     "iopub.status.idle": "2024-11-27T10:42:04.555092Z",
     "shell.execute_reply": "2024-11-27T10:42:04.553992Z",
     "shell.execute_reply.started": "2024-11-27T10:41:59.995729Z"
    },
    "trusted": true
   },
   "outputs": [],
   "source": [
    "best_svc_pipe.score(X_valid, y_valid)"
   ]
  },
  {
   "cell_type": "markdown",
   "metadata": {},
   "source": [
    "**How SVC Works:**  \n",
    "SVC constructs a hyperplane in a high-dimensional space to separate classes, aiming to maximize the margin between them. It’s effective for datasets with clear class separation and can use kernels for non-linear relationships.\n",
    "\n",
    "---\n",
    "\n",
    "**Performance Analysis**\n",
    "- **Majority Class (`no`)**: High precision (0.89) and recall (0.95), leading to an F1-score of 0.92. SVC performs well on this dominant class.\n",
    "- **Minority Class (`yes`)**: Precision (0.55) and recall (0.37) are low, resulting in an F1-score of 0.44. The model struggles with the minority class due to imbalanced data.\n",
    "- **Overall**: Accuracy is 86%, but the macro average F1-score (0.68) highlights poor balance between the two classes.\n",
    "\n",
    "---\n",
    "\n",
    "**Why It Performed This Way**\n",
    "- **Class Imbalance**: SVC does not handle imbalanced data well and tends to prioritize the majority class.\n",
    "- **Margin Maximization**: It relies on maximizing the margin, which can lead to ignoring minority class samples if they don’t significantly affect the margin.\n",
    "\n",
    "\n",
    "\n",
    "\n",
    "\n"
   ]
  },
  {
   "cell_type": "markdown",
   "metadata": {},
   "source": [
    "### Random Forest"
   ]
  },
  {
   "cell_type": "code",
   "execution_count": null,
   "metadata": {
    "execution": {
     "iopub.execute_input": "2024-11-27T10:42:04.556885Z",
     "iopub.status.busy": "2024-11-27T10:42:04.556553Z",
     "iopub.status.idle": "2024-11-27T10:42:04.562098Z",
     "shell.execute_reply": "2024-11-27T10:42:04.560864Z",
     "shell.execute_reply.started": "2024-11-27T10:42:04.556854Z"
    },
    "trusted": true
   },
   "outputs": [],
   "source": [
    "rand_frst_clf = RandomForestClassifier()"
   ]
  },
  {
   "cell_type": "code",
   "execution_count": null,
   "metadata": {
    "execution": {
     "iopub.execute_input": "2024-11-27T10:42:04.564218Z",
     "iopub.status.busy": "2024-11-27T10:42:04.563745Z",
     "iopub.status.idle": "2024-11-27T10:42:04.583294Z",
     "shell.execute_reply": "2024-11-27T10:42:04.581895Z",
     "shell.execute_reply.started": "2024-11-27T10:42:04.564171Z"
    },
    "trusted": true
   },
   "outputs": [],
   "source": [
    "sp = SelectPercentile(f_classif)"
   ]
  },
  {
   "cell_type": "code",
   "execution_count": null,
   "metadata": {
    "execution": {
     "iopub.execute_input": "2024-11-27T10:42:04.584936Z",
     "iopub.status.busy": "2024-11-27T10:42:04.584587Z",
     "iopub.status.idle": "2024-11-27T10:42:04.596206Z",
     "shell.execute_reply": "2024-11-27T10:42:04.595135Z",
     "shell.execute_reply.started": "2024-11-27T10:42:04.584905Z"
    },
    "trusted": true
   },
   "outputs": [],
   "source": [
    "rand_frst_pipe = ImbPipeline([\n",
    "    ('poly', PolynomialFeatures(include_bias=False)),\n",
    "    ('smote', SMOTE(sampling_strategy='auto', random_state=42)),\n",
    "    ('sp', sp),\n",
    "    ('model', rand_frst_clf)\n",
    "])"
   ]
  },
  {
   "cell_type": "code",
   "execution_count": null,
   "metadata": {
    "execution": {
     "iopub.execute_input": "2024-11-27T10:42:04.598286Z",
     "iopub.status.busy": "2024-11-27T10:42:04.597796Z",
     "iopub.status.idle": "2024-11-27T10:42:04.607056Z",
     "shell.execute_reply": "2024-11-27T10:42:04.605925Z",
     "shell.execute_reply.started": "2024-11-27T10:42:04.598219Z"
    },
    "trusted": true
   },
   "outputs": [],
   "source": [
    "param_grid = {\n",
    "    'max_depth': [5, 10, 20],\n",
    "    'min_samples_split': [2, 5, 10],\n",
    "    'min_samples_leaf': [1, 2, 5, 10],\n",
    "}"
   ]
  },
  {
   "cell_type": "code",
   "execution_count": null,
   "metadata": {
    "execution": {
     "iopub.execute_input": "2024-11-27T10:42:04.609221Z",
     "iopub.status.busy": "2024-11-27T10:42:04.608747Z",
     "iopub.status.idle": "2024-11-27T10:42:04.621614Z",
     "shell.execute_reply": "2024-11-27T10:42:04.620628Z",
     "shell.execute_reply.started": "2024-11-27T10:42:04.609175Z"
    },
    "trusted": true
   },
   "outputs": [],
   "source": [
    "grid_search_rf = GridSearchCV(\n",
    "    estimator=rand_frst_pipe,\n",
    "    param_grid=param_grid,\n",
    "    cv=3,  # Cross-validation\n",
    "    verbose=2,\n",
    "    n_jobs=-1,\n",
    ")"
   ]
  },
  {
   "cell_type": "code",
   "execution_count": null,
   "metadata": {
    "execution": {
     "iopub.execute_input": "2024-11-27T10:42:04.623420Z",
     "iopub.status.busy": "2024-11-27T10:42:04.622997Z",
     "iopub.status.idle": "2024-11-27T10:42:04.633082Z",
     "shell.execute_reply": "2024-11-27T10:42:04.631849Z",
     "shell.execute_reply.started": "2024-11-27T10:42:04.623376Z"
    },
    "trusted": true
   },
   "outputs": [],
   "source": [
    "X_train_trans = preprocess_pipeline.fit_transform(X_train)\n",
    "grid_search_rf.fit(X_train_trans, y_train)"
   ]
  },
  {
   "cell_type": "code",
   "execution_count": null,
   "metadata": {
    "execution": {
     "iopub.execute_input": "2024-11-27T10:42:04.634826Z",
     "iopub.status.busy": "2024-11-27T10:42:04.634399Z",
     "iopub.status.idle": "2024-11-27T10:42:04.659984Z",
     "shell.execute_reply": "2024-11-27T10:42:04.658851Z",
     "shell.execute_reply.started": "2024-11-27T10:42:04.634780Z"
    },
    "trusted": true
   },
   "outputs": [],
   "source": [
    "grid_search_rf.best_params_"
   ]
  },
  {
   "cell_type": "code",
   "execution_count": null,
   "metadata": {
    "execution": {
     "iopub.execute_input": "2024-11-27T10:42:04.661748Z",
     "iopub.status.busy": "2024-11-27T10:42:04.661339Z",
     "iopub.status.idle": "2024-11-27T10:42:04.671436Z",
     "shell.execute_reply": "2024-11-27T10:42:04.670344Z",
     "shell.execute_reply.started": "2024-11-27T10:42:04.661704Z"
    },
    "trusted": true
   },
   "outputs": [],
   "source": [
    "best_rf_pipe = ImbPipeline([\n",
    "    (\"preprocess\", preprocess_pipeline),\n",
    "    (\"poly\", PolynomialFeatures(degree=2, include_bias=False)),\n",
    "    ('smote', SMOTE(sampling_strategy='auto', random_state=4)),\n",
    "    ('sp', SelectPercentile(f_classif, percentile=75)),\n",
    "    ('model', RandomForestClassifier(max_depth=None, min_samples_leaf=1, min_samples_split=2, random_state=42))\n",
    "  ])"
   ]
  },
  {
   "cell_type": "code",
   "execution_count": null,
   "metadata": {
    "execution": {
     "iopub.execute_input": "2024-11-27T10:42:04.673261Z",
     "iopub.status.busy": "2024-11-27T10:42:04.672885Z",
     "iopub.status.idle": "2024-11-27T10:42:04.686182Z",
     "shell.execute_reply": "2024-11-27T10:42:04.685080Z",
     "shell.execute_reply.started": "2024-11-27T10:42:04.673224Z"
    },
    "trusted": true
   },
   "outputs": [],
   "source": [
    "best_rf_pipe.fit(X_train, y_train)"
   ]
  },
  {
   "cell_type": "code",
   "execution_count": null,
   "metadata": {
    "execution": {
     "iopub.execute_input": "2024-11-27T10:42:04.688206Z",
     "iopub.status.busy": "2024-11-27T10:42:04.687775Z",
     "iopub.status.idle": "2024-11-27T10:42:04.698440Z",
     "shell.execute_reply": "2024-11-27T10:42:04.697114Z",
     "shell.execute_reply.started": "2024-11-27T10:42:04.688163Z"
    },
    "trusted": true
   },
   "outputs": [],
   "source": [
    "best_rf_pipe.score(X_train, y_train)"
   ]
  },
  {
   "cell_type": "code",
   "execution_count": null,
   "metadata": {
    "execution": {
     "iopub.execute_input": "2024-11-27T10:42:04.700531Z",
     "iopub.status.busy": "2024-11-27T10:42:04.700059Z",
     "iopub.status.idle": "2024-11-27T10:42:04.709887Z",
     "shell.execute_reply": "2024-11-27T10:42:04.708738Z",
     "shell.execute_reply.started": "2024-11-27T10:42:04.700484Z"
    },
    "trusted": true
   },
   "outputs": [],
   "source": [
    "best_rf_pipe.score(X_valid, y_valid)"
   ]
  },
  {
   "cell_type": "markdown",
   "metadata": {},
   "source": [
    "#### Handling Overfitting"
   ]
  },
  {
   "cell_type": "code",
   "execution_count": null,
   "metadata": {
    "execution": {
     "iopub.execute_input": "2024-11-27T10:42:04.712177Z",
     "iopub.status.busy": "2024-11-27T10:42:04.711345Z",
     "iopub.status.idle": "2024-11-27T10:42:04.721077Z",
     "shell.execute_reply": "2024-11-27T10:42:04.720060Z",
     "shell.execute_reply.started": "2024-11-27T10:42:04.712118Z"
    },
    "trusted": true
   },
   "outputs": [],
   "source": [
    "data = [] # [ [max_depth, train_score, test_score] ]\n",
    "for i in [1, 5, 8, 10, 20]:\n",
    "  rf_pipe = ImbPipeline([\n",
    "    (\"preprocess\", preprocess_pipeline),\n",
    "    (\"poly\", PolynomialFeatures(degree=2, include_bias=False)),\n",
    "    ('smote', SMOTE(sampling_strategy='auto', random_state=4)),\n",
    "    ('sp', SelectPercentile(f_classif, percentile=75)),\n",
    "    ('model', RandomForestClassifier(max_depth=i, min_samples_leaf=1, min_samples_split=2, random_state=42))\n",
    "  ])\n",
    "\n",
    "  rf_pipe.fit(X_train, y_train)\n",
    "  train_score = rf_pipe.score(X_train, y_train)\n",
    "  valid_score = rf_pipe.score(X_valid, y_valid)\n",
    "  data.append([i, train_score, valid_score])"
   ]
  },
  {
   "cell_type": "code",
   "execution_count": null,
   "metadata": {
    "execution": {
     "iopub.execute_input": "2024-11-27T10:42:04.723401Z",
     "iopub.status.busy": "2024-11-27T10:42:04.722551Z",
     "iopub.status.idle": "2024-11-27T10:42:04.731560Z",
     "shell.execute_reply": "2024-11-27T10:42:04.730342Z",
     "shell.execute_reply.started": "2024-11-27T10:42:04.723360Z"
    },
    "trusted": true
   },
   "outputs": [],
   "source": [
    "sns.lineplot(x='max_depth', y='train_score', data=pd.DataFrame(data, columns=['max_depth', 'train_score', 'test_score']))\n",
    "sns.lineplot(x='max_depth', y='test_score', data=pd.DataFrame(data, columns=['max_depth', 'train_score', 'test_score']))\n",
    "plt.ylabel(\"f1 score\")\n",
    "plt.xticks([1,5,10, 15, 20])"
   ]
  },
  {
   "cell_type": "code",
   "execution_count": null,
   "metadata": {
    "execution": {
     "iopub.execute_input": "2024-11-27T10:42:04.733340Z",
     "iopub.status.busy": "2024-11-27T10:42:04.732915Z",
     "iopub.status.idle": "2024-11-27T10:42:04.744441Z",
     "shell.execute_reply": "2024-11-27T10:42:04.743332Z",
     "shell.execute_reply.started": "2024-11-27T10:42:04.733289Z"
    },
    "trusted": true
   },
   "outputs": [],
   "source": [
    "ideal_rf_pipe = ImbPipeline([\n",
    "    (\"preprocess\", preprocess_pipeline),\n",
    "    (\"poly\", PolynomialFeatures(degree=1, include_bias=False)),\n",
    "    ('smote', SMOTE(sampling_strategy='auto', random_state=4)),\n",
    "    ('sp', SelectPercentile(f_classif, percentile=75)),\n",
    "    ('model', RandomForestClassifier(max_depth=10, min_samples_leaf=1, min_samples_split=2, random_state=42))\n",
    "  ])"
   ]
  },
  {
   "cell_type": "code",
   "execution_count": null,
   "metadata": {
    "execution": {
     "iopub.execute_input": "2024-11-27T10:42:04.746291Z",
     "iopub.status.busy": "2024-11-27T10:42:04.745856Z",
     "iopub.status.idle": "2024-11-27T10:42:10.903172Z",
     "shell.execute_reply": "2024-11-27T10:42:10.901974Z",
     "shell.execute_reply.started": "2024-11-27T10:42:04.746227Z"
    },
    "trusted": true
   },
   "outputs": [],
   "source": [
    "ideal_rf_pipe.fit(X_train, y_train)"
   ]
  },
  {
   "cell_type": "code",
   "execution_count": null,
   "metadata": {
    "execution": {
     "iopub.execute_input": "2024-11-27T10:42:10.905066Z",
     "iopub.status.busy": "2024-11-27T10:42:10.904706Z",
     "iopub.status.idle": "2024-11-27T10:42:11.486123Z",
     "shell.execute_reply": "2024-11-27T10:42:11.485078Z",
     "shell.execute_reply.started": "2024-11-27T10:42:10.905033Z"
    },
    "trusted": true
   },
   "outputs": [],
   "source": [
    "ideal_rf_pipe.score(X_train, y_train)"
   ]
  },
  {
   "cell_type": "code",
   "execution_count": null,
   "metadata": {
    "execution": {
     "iopub.execute_input": "2024-11-27T10:42:11.488585Z",
     "iopub.status.busy": "2024-11-27T10:42:11.488131Z",
     "iopub.status.idle": "2024-11-27T10:42:11.666859Z",
     "shell.execute_reply": "2024-11-27T10:42:11.665745Z",
     "shell.execute_reply.started": "2024-11-27T10:42:11.488542Z"
    },
    "trusted": true
   },
   "outputs": [],
   "source": [
    "ideal_rf_pipe.score(X_valid, y_valid)"
   ]
  },
  {
   "cell_type": "code",
   "execution_count": null,
   "metadata": {
    "execution": {
     "iopub.execute_input": "2024-11-27T10:42:11.668987Z",
     "iopub.status.busy": "2024-11-27T10:42:11.668534Z",
     "iopub.status.idle": "2024-11-27T10:42:12.137141Z",
     "shell.execute_reply": "2024-11-27T10:42:12.135953Z",
     "shell.execute_reply.started": "2024-11-27T10:42:11.668939Z"
    },
    "trusted": true
   },
   "outputs": [],
   "source": [
    "print(classification_report(y_valid, ideal_rf_pipe.predict(X_valid)))"
   ]
  },
  {
   "cell_type": "markdown",
   "metadata": {},
   "source": [
    "\n",
    "**How It Works:**  \n",
    "Random Forest is an ensemble model that builds multiple decision trees during training and outputs the class that is the mode of their predictions. It handles non-linear relationships and is robust to overfitting.\n",
    "\n",
    "---\n",
    "\n",
    "### **Performance Analysis**\n",
    "- **Majority Class (`no`)**: High precision (0.96) but slightly lower recall (0.84), resulting in an F1-score of 0.89.\n",
    "- **Minority Class (`yes`)**: Improved recall (0.80) compared to SVC, with a precision of 0.47 and an F1-score of 0.59.\n",
    "- **Overall**: Accuracy is 83%, and the macro average F1-score (0.74) indicates better balance between the two classes than SVC.\n",
    "\n",
    "---\n",
    "\n",
    "### **Why It Performed This Way**\n",
    "- **Class Imbalance Handling**: Random Forest handles class imbalance better than SVC by considering multiple trees, which increases recall for the minority class.\n",
    "- **Non-Linear Modeling**: Its ability to model non-linear relationships improves overall performance, though precision for the minority class remains moderate.\n"
   ]
  },
  {
   "cell_type": "markdown",
   "metadata": {},
   "source": [
    "### XGBoost"
   ]
  },
  {
   "cell_type": "code",
   "execution_count": null,
   "metadata": {
    "execution": {
     "iopub.execute_input": "2024-11-27T10:44:24.210472Z",
     "iopub.status.busy": "2024-11-27T10:44:24.210042Z",
     "iopub.status.idle": "2024-11-27T10:44:24.215942Z",
     "shell.execute_reply": "2024-11-27T10:44:24.214552Z",
     "shell.execute_reply.started": "2024-11-27T10:44:24.210438Z"
    },
    "trusted": true
   },
   "outputs": [],
   "source": [
    "xg_boost = XGBClassifier()"
   ]
  },
  {
   "cell_type": "code",
   "execution_count": null,
   "metadata": {
    "execution": {
     "iopub.execute_input": "2024-11-27T10:44:27.208426Z",
     "iopub.status.busy": "2024-11-27T10:44:27.207986Z",
     "iopub.status.idle": "2024-11-27T10:44:27.214622Z",
     "shell.execute_reply": "2024-11-27T10:44:27.213344Z",
     "shell.execute_reply.started": "2024-11-27T10:44:27.208390Z"
    },
    "trusted": true
   },
   "outputs": [],
   "source": [
    "xg_pipe = ImbPipeline([\n",
    "    # ('smote', SMOTE(sampling_strategy='auto', random_state=42)),\n",
    "    ('model', xg_boost)\n",
    "])"
   ]
  },
  {
   "cell_type": "code",
   "execution_count": null,
   "metadata": {
    "execution": {
     "iopub.execute_input": "2024-11-27T10:44:28.538820Z",
     "iopub.status.busy": "2024-11-27T10:44:28.537762Z",
     "iopub.status.idle": "2024-11-27T10:44:28.544311Z",
     "shell.execute_reply": "2024-11-27T10:44:28.543191Z",
     "shell.execute_reply.started": "2024-11-27T10:44:28.538775Z"
    },
    "trusted": true
   },
   "outputs": [],
   "source": [
    "param_grid = {\n",
    "    'model__learning_rate': [0.01, 0.2],  # Step size shrinkage\n",
    "    'model__max_depth': [3, 10],  # Tree depth\n",
    "    'model__min_child_weight': [1, 10],  # Minimum child weight\n",
    "    'model__subsample': [0.6, 1.0],  # Fraction of samples used per tree\n",
    "    'model__colsample_bytree': [0.6, 1.0],  # Fraction of features used per tree\n",
    "    'model__n_estimators': [100, 300],  # Number of boosting rounds\n",
    "    'model__gamma': [0, 5],  # Minimum loss reduction for splits\n",
    "    'model__reg_alpha': [0, 0.1, 1],  # L1 regularization\n",
    "}\n"
   ]
  },
  {
   "cell_type": "code",
   "execution_count": null,
   "metadata": {
    "execution": {
     "iopub.execute_input": "2024-11-27T10:44:29.674412Z",
     "iopub.status.busy": "2024-11-27T10:44:29.674008Z",
     "iopub.status.idle": "2024-11-27T10:44:29.680057Z",
     "shell.execute_reply": "2024-11-27T10:44:29.678805Z",
     "shell.execute_reply.started": "2024-11-27T10:44:29.674380Z"
    },
    "trusted": true
   },
   "outputs": [],
   "source": [
    "grid_search_xg = GridSearchCV(\n",
    "    estimator=xg_pipe,\n",
    "    param_grid=param_grid,\n",
    "    scoring='f1',\n",
    "    cv=2,\n",
    "    verbose=2,\n",
    "    n_jobs=1\n",
    ")"
   ]
  },
  {
   "cell_type": "code",
   "execution_count": null,
   "metadata": {
    "execution": {
     "iopub.execute_input": "2024-11-27T10:44:35.259199Z",
     "iopub.status.busy": "2024-11-27T10:44:35.258818Z",
     "iopub.status.idle": "2024-11-27T11:04:11.769313Z",
     "shell.execute_reply": "2024-11-27T11:04:11.768484Z",
     "shell.execute_reply.started": "2024-11-27T10:44:35.259167Z"
    },
    "trusted": true
   },
   "outputs": [],
   "source": [
    "X_train_trans = preprocess_pipeline.fit_transform(X_train)\n",
    "y_train_trans = y_train.map({\"yes\": 1, \"no\": 0})\n",
    "grid_search_xg.fit(X_train_trans, y_train_trans)"
   ]
  },
  {
   "cell_type": "code",
   "execution_count": null,
   "metadata": {
    "execution": {
     "iopub.execute_input": "2024-11-27T11:04:11.772088Z",
     "iopub.status.busy": "2024-11-27T11:04:11.770966Z",
     "iopub.status.idle": "2024-11-27T11:04:11.778695Z",
     "shell.execute_reply": "2024-11-27T11:04:11.777549Z",
     "shell.execute_reply.started": "2024-11-27T11:04:11.772052Z"
    },
    "trusted": true
   },
   "outputs": [],
   "source": [
    "grid_search_xg.best_params_"
   ]
  },
  {
   "cell_type": "code",
   "execution_count": null,
   "metadata": {
    "execution": {
     "iopub.execute_input": "2024-11-27T10:42:12.214217Z",
     "iopub.status.busy": "2024-11-27T10:42:12.213902Z",
     "iopub.status.idle": "2024-11-27T10:42:12.229297Z",
     "shell.execute_reply": "2024-11-27T10:42:12.228015Z",
     "shell.execute_reply.started": "2024-11-27T10:42:12.214186Z"
    },
    "trusted": true
   },
   "outputs": [],
   "source": [
    "best_xg_pipe = ImbPipeline([\n",
    "    (\"preprocess\", preprocess_pipeline),\n",
    "    ('smote', SMOTE(sampling_strategy='auto', random_state=42)),\n",
    "    ('model', XGBClassifier(colsample_bytree=0.6, gamma=0, learning_rate=0.001, max_depth=12, min_child_weight=10, n_estimators=110, reg_alpha=1, subsample=1))\n",
    "])"
   ]
  },
  {
   "cell_type": "code",
   "execution_count": null,
   "metadata": {
    "execution": {
     "iopub.execute_input": "2024-11-27T13:34:28.254650Z",
     "iopub.status.busy": "2024-11-27T13:34:28.253678Z",
     "iopub.status.idle": "2024-11-27T13:34:28.544271Z",
     "shell.execute_reply": "2024-11-27T13:34:28.542823Z",
     "shell.execute_reply.started": "2024-11-27T13:34:28.254605Z"
    },
    "trusted": true
   },
   "outputs": [],
   "source": [
    "best_xg_pipe = ImbPipeline([\n",
    "    (\"preprocess\", preprocess_pipeline),\n",
    "    ('smote', SMOTE(sampling_strategy='auto', random_state=42)),\n",
    "    ('model', XGBClassifier(colsample_bytree=0.6, gamma=5, learning_rate=0.01, max_depth=10, min_child_weight=10, n_estimators=100, reg_alpha=0.1, subsample=0.6))\n",
    "])"
   ]
  },
  {
   "cell_type": "code",
   "execution_count": null,
   "metadata": {
    "execution": {
     "iopub.execute_input": "2024-11-27T10:42:12.231067Z",
     "iopub.status.busy": "2024-11-27T10:42:12.230638Z",
     "iopub.status.idle": "2024-11-27T10:42:15.521196Z",
     "shell.execute_reply": "2024-11-27T10:42:15.520128Z",
     "shell.execute_reply.started": "2024-11-27T10:42:12.231020Z"
    },
    "trusted": true
   },
   "outputs": [],
   "source": [
    "y_train_trans = y_train.map({\"yes\": 1, \"no\": 0})\n",
    "best_xg_pipe.fit(X_train, y_train_trans)"
   ]
  },
  {
   "cell_type": "code",
   "execution_count": null,
   "metadata": {
    "execution": {
     "iopub.execute_input": "2024-11-27T10:42:15.523532Z",
     "iopub.status.busy": "2024-11-27T10:42:15.522743Z",
     "iopub.status.idle": "2024-11-27T10:42:15.735627Z",
     "shell.execute_reply": "2024-11-27T10:42:15.734823Z",
     "shell.execute_reply.started": "2024-11-27T10:42:15.523482Z"
    },
    "trusted": true
   },
   "outputs": [],
   "source": [
    "best_xg_pipe.score(X_train, y_train_trans)"
   ]
  },
  {
   "cell_type": "code",
   "execution_count": null,
   "metadata": {
    "execution": {
     "iopub.execute_input": "2024-11-27T10:42:15.736846Z",
     "iopub.status.busy": "2024-11-27T10:42:15.736535Z",
     "iopub.status.idle": "2024-11-27T10:42:15.819517Z",
     "shell.execute_reply": "2024-11-27T10:42:15.818576Z",
     "shell.execute_reply.started": "2024-11-27T10:42:15.736814Z"
    },
    "trusted": true
   },
   "outputs": [],
   "source": [
    "y_valid_trans = y_valid.map({\"yes\": 1, \"no\": 0})\n",
    "best_xg_pipe.score(X_valid, y_valid_trans)"
   ]
  },
  {
   "cell_type": "code",
   "execution_count": null,
   "metadata": {
    "execution": {
     "iopub.execute_input": "2024-11-27T10:42:15.823927Z",
     "iopub.status.busy": "2024-11-27T10:42:15.823576Z",
     "iopub.status.idle": "2024-11-27T10:42:15.924564Z",
     "shell.execute_reply": "2024-11-27T10:42:15.923218Z",
     "shell.execute_reply.started": "2024-11-27T10:42:15.823893Z"
    },
    "trusted": true
   },
   "outputs": [],
   "source": [
    "y_valid_trans = y_valid.map({\"yes\": 1, \"no\": 0})\n",
    "preds = best_xg_pipe.predict(X_valid)\n",
    "print(classification_report(y_valid_trans, preds))"
   ]
  },
  {
   "cell_type": "markdown",
   "metadata": {},
   "source": [
    "\n",
    "**How It Works:**  \n",
    "XGBoost is a gradient-boosting framework that builds trees sequentially, focusing on correcting errors made by previous trees. It uses regularization to prevent overfitting and works well with imbalanced and non-linear data.\n",
    "\n",
    "\n",
    "\n",
    "### **Performance Analysis**\n",
    "- **Majority Class (`0`)**: Excellent precision (0.96) and recall (0.88), leading to an F1-score of 0.91.\n",
    "- **Minority Class (`1`)**: Balanced precision (0.53) and recall (0.77), resulting in the highest F1-score for the minority class (0.63) among all models.\n",
    "- **Overall**: Accuracy is 86%, with a macro average F1-score of 0.77, indicating the best balance between the two class\n",
    "\n",
    "---\n",
    "\n",
    "### **Why It Performed This Way**\n",
    "- **Boosting Mechanism**: XGBoost’s sequential tree-building approach effectively captures minority class patterns, improving both precision and recall.\n",
    "- **Robustness**: It handles non-linear relationships and class imbalance well, outperforming both SVC and Random Forest on the minority class.\n"
   ]
  },
  {
   "cell_type": "markdown",
   "metadata": {},
   "source": [
    "## 13. Model Comparision"
   ]
  },
  {
   "cell_type": "code",
   "execution_count": null,
   "metadata": {
    "execution": {
     "iopub.execute_input": "2024-11-27T10:42:15.926113Z",
     "iopub.status.busy": "2024-11-27T10:42:15.925779Z",
     "iopub.status.idle": "2024-11-27T10:42:20.661148Z",
     "shell.execute_reply": "2024-11-27T10:42:20.660325Z",
     "shell.execute_reply.started": "2024-11-27T10:42:15.926082Z"
    },
    "trusted": true
   },
   "outputs": [],
   "source": [
    "models = [best_svc_pipe, ideal_rf_pipe, best_xg_pipe]\n",
    "preds = [best_svc_pipe.predict(X_valid), ideal_rf_pipe.predict(X_valid), np.array([\"yes\" if x==1 else \"no\" for x in best_xg_pipe.predict(X_valid)])]"
   ]
  },
  {
   "cell_type": "code",
   "execution_count": null,
   "metadata": {
    "execution": {
     "iopub.execute_input": "2024-11-27T10:42:20.662368Z",
     "iopub.status.busy": "2024-11-27T10:42:20.662066Z",
     "iopub.status.idle": "2024-11-27T10:42:21.537480Z",
     "shell.execute_reply": "2024-11-27T10:42:21.536346Z",
     "shell.execute_reply.started": "2024-11-27T10:42:20.662336Z"
    },
    "trusted": true
   },
   "outputs": [],
   "source": [
    "eval_data = []\n",
    "for pred in preds:\n",
    "  report = classification_report(y_valid, pred, output_dict=True)\n",
    "  \n",
    "  precision_no_class = report['no']['precision']\n",
    "  recall_no_class = report['no']['recall']\n",
    "  f1_no_class = report['no']['f1-score']\n",
    "\n",
    "  precision_yes_class = report['yes']['precision']\n",
    "  recall_yes_class = report['yes']['recall']\n",
    "  f1_yes_class = report['yes']['f1-score']\n",
    "\n",
    "  f1 = report[\"accuracy\"]\n",
    "  # create into a dataframe\n",
    "  \n",
    "\n",
    "  eval_data.append([precision_no_class, recall_no_class, f1_no_class, precision_yes_class, recall_yes_class, f1_yes_class, f1])\n",
    "\n"
   ]
  },
  {
   "cell_type": "code",
   "execution_count": null,
   "metadata": {
    "execution": {
     "iopub.execute_input": "2024-11-27T10:42:21.539238Z",
     "iopub.status.busy": "2024-11-27T10:42:21.538898Z",
     "iopub.status.idle": "2024-11-27T10:42:21.554585Z",
     "shell.execute_reply": "2024-11-27T10:42:21.553360Z",
     "shell.execute_reply.started": "2024-11-27T10:42:21.539207Z"
    },
    "trusted": true
   },
   "outputs": [],
   "source": [
    "# eval data to dataframe\n",
    "eval_df = pd.DataFrame(eval_data, columns=[\"precision_no\", \"recall_no\", \"f1_no\", \"precision_yes\", \"recall_yes\", \"f1_yes\", \"f1\"])\n",
    "eval_df[\"model\"] = [\"SVC\", \"Random Forest\", \"XGBoost\"]\n",
    "eval_df"
   ]
  },
  {
   "cell_type": "code",
   "execution_count": null,
   "metadata": {
    "execution": {
     "iopub.execute_input": "2024-11-27T10:42:21.556220Z",
     "iopub.status.busy": "2024-11-27T10:42:21.555905Z",
     "iopub.status.idle": "2024-11-27T10:42:21.829544Z",
     "shell.execute_reply": "2024-11-27T10:42:21.828304Z",
     "shell.execute_reply.started": "2024-11-27T10:42:21.556190Z"
    },
    "trusted": true
   },
   "outputs": [],
   "source": [
    "fig, ax = plt.subplots(figsize=(10, 6))\n",
    "ax.plot(eval_df['model'], eval_df['f1_no'], marker='o', label='F1-Score (no)', color='blue')\n",
    "ax.plot(eval_df['model'], eval_df['f1_yes'], marker='o', label='F1-Score (yes)', color='orange')\n",
    "ax.plot(eval_df['model'], eval_df['f1'], marker='o', label='Overall F1-Score', color='green')\n",
    "\n",
    "ax.set_title('Trends in F1-Scores for Models')\n",
    "ax.set_ylabel('F1-Score')\n",
    "ax.set_xlabel('Model')\n",
    "ax.legend()\n",
    "plt.show()\n"
   ]
  },
  {
   "cell_type": "markdown",
   "metadata": {},
   "source": [
    "\n",
    "\n",
    "| Model          | Precision (no) | Recall (no) | F1-Score (no) | Precision (yes) | Recall (yes) | F1-Score (yes) | Overall F1-Score |\n",
    "|-----------------|----------------|-------------|---------------|------------------|--------------|----------------|------------------|\n",
    "| SVC            | 0.893807       | 0.951242    | 0.921630      | 0.579767         | 0.373122     | 0.454038       | 0.862935         |\n",
    "| Random Forest  | 0.966479       | 0.850414    | 0.904739      | 0.502004         | 0.836394     | 0.627426       | 0.848272         |\n",
    "| XGBoost        | 0.959462       | 0.890444    | 0.923665      | 0.565632         | 0.791319     | 0.659708       | 0.875303    \n",
    "\n",
    "\n",
    "   |\n",
    "### Key Observations:\n",
    "\n",
    "1. **Overall F1-Score**:\n",
    "   - **XGBoost** achieves the highest overall F1-score (0.8753), followed by **SVC** (0.8629) and **Random Forest** (0.8483).\n",
    "\n",
    "2. **Majority Class Performance**:\n",
    "   - **SVC** and **XGBoost** both demonstrate strong performance on the `no` class, with high F1-scores (0.9216 and 0.9237, respectively). **Random Forest** is slightly behind with 0.9047.\n",
    "\n",
    "3. **Minority Class Performance**:\n",
    "   - **XGBoost** outperforms both **SVC** and **Random Forest** for the `yes` class, achieving the highest F1-score (0.6597) and maintaining a good balance between precision (0.5656) and recall (0.7913).\n",
    "   - **Random Forest** shows decent recall for the minority class (0.8364) but lower precision (0.5020), leading to a lower F1-score (0.6274).\n",
    "   - **SVC** struggles with the `yes` class, with a low F1-score (0.4540) due to its low recall (0.3731).\n",
    "\n",
    "4. **Class Imbalance Handling**:\n",
    "   - **SVC** struggles significantly with class imbalance, failing to perform well on the minority class due to its reliance on margin maximization.\n",
    "   - **Random Forest** improves recall for the minority class but sacrifices precision, leading to moderate performance.\n",
    "   - **XGBoost** effectively balances precision and recall, making it the most reliable for imbalanced data.\n",
    "\n",
    "5. **Model Complexity**:\n",
    "   - **SVC** is a simpler model but limited in handling imbalanced and non-linear data.\n",
    "   - **Random Forest** handles non-linearity well but still requires careful tuning to address imbalance.\n",
    "   - **XGBoost** is the most robust, leveraging boosting and regularization to achieve a balanced performance across all metrics.\n",
    "\n",
    "---\n",
    "\n",
    "### Conclusion:\n",
    "**XGBoost** is the best-performing model based on the overall F1-score and its ability to balance precision and recall for both the majority and minority classes. For datasets with imbalanced classes and non-linear relationships, **XGBoost** stands out as the most suitable choice.\n",
    " XGBoost is the most suitable choice.\n"
   ]
  },
  {
   "cell_type": "markdown",
   "metadata": {},
   "source": [
    "## 14. Training the model on entire dataset"
   ]
  },
  {
   "cell_type": "code",
   "execution_count": null,
   "metadata": {
    "execution": {
     "iopub.execute_input": "2024-11-27T10:42:21.831254Z",
     "iopub.status.busy": "2024-11-27T10:42:21.830934Z",
     "iopub.status.idle": "2024-11-27T10:42:25.696144Z",
     "shell.execute_reply": "2024-11-27T10:42:25.695060Z",
     "shell.execute_reply.started": "2024-11-27T10:42:21.831222Z"
    },
    "trusted": true
   },
   "outputs": [],
   "source": [
    "y_trans = y.map({\"yes\": 1, \"no\": 0})\n",
    "best_xg_pipe.fit(X, y_trans)"
   ]
  },
  {
   "cell_type": "code",
   "execution_count": null,
   "metadata": {
    "execution": {
     "iopub.execute_input": "2024-11-27T10:42:25.698510Z",
     "iopub.status.busy": "2024-11-27T10:42:25.698064Z",
     "iopub.status.idle": "2024-11-27T10:42:51.548164Z",
     "shell.execute_reply": "2024-11-27T10:42:51.547005Z",
     "shell.execute_reply.started": "2024-11-27T10:42:25.698462Z"
    },
    "trusted": true
   },
   "outputs": [],
   "source": [
    "best_xg_pipe.fit(X, y)"
   ]
  },
  {
   "cell_type": "markdown",
   "metadata": {},
   "source": [
    "## 15. Predicting on Test Set and Saving results to output.csv"
   ]
  },
  {
   "cell_type": "code",
   "execution_count": null,
   "metadata": {
    "execution": {
     "iopub.execute_input": "2024-11-27T10:42:51.550298Z",
     "iopub.status.busy": "2024-11-27T10:42:51.549809Z",
     "iopub.status.idle": "2024-11-27T10:42:51.585225Z",
     "shell.execute_reply": "2024-11-27T10:42:51.584115Z",
     "shell.execute_reply.started": "2024-11-27T10:42:51.550229Z"
    },
    "trusted": true
   },
   "outputs": [],
   "source": [
    "df_test = pd.read_csv('test.csv')"
   ]
  },
  {
   "cell_type": "code",
   "execution_count": null,
   "metadata": {
    "execution": {
     "iopub.execute_input": "2024-11-27T10:42:51.587002Z",
     "iopub.status.busy": "2024-11-27T10:42:51.586577Z",
     "iopub.status.idle": "2024-11-27T10:42:51.679204Z",
     "shell.execute_reply": "2024-11-27T10:42:51.678341Z",
     "shell.execute_reply.started": "2024-11-27T10:42:51.586948Z"
    },
    "trusted": true
   },
   "outputs": [],
   "source": [
    "preds = best_xg_pipe.predict(df_test)\n",
    "preds = [\"yes\" if i == 1 else \"no\" for i in preds]"
   ]
  },
  {
   "cell_type": "code",
   "execution_count": null,
   "metadata": {
    "execution": {
     "iopub.execute_input": "2024-11-27T10:42:51.680478Z",
     "iopub.status.busy": "2024-11-27T10:42:51.680159Z",
     "iopub.status.idle": "2024-11-27T10:42:51.695559Z",
     "shell.execute_reply": "2024-11-27T10:42:51.694362Z",
     "shell.execute_reply.started": "2024-11-27T10:42:51.680446Z"
    },
    "trusted": true
   },
   "outputs": [],
   "source": [
    "out_df = pd.DataFrame()\n",
    "out_df['id'] = df_test.index\n",
    "out_df['target'] = preds\n",
    "out_df"
   ]
  },
  {
   "cell_type": "code",
   "execution_count": null,
   "metadata": {
    "execution": {
     "iopub.execute_input": "2024-11-27T10:42:51.697635Z",
     "iopub.status.busy": "2024-11-27T10:42:51.697241Z",
     "iopub.status.idle": "2024-11-27T10:42:51.712718Z",
     "shell.execute_reply": "2024-11-27T10:42:51.711709Z",
     "shell.execute_reply.started": "2024-11-27T10:42:51.697601Z"
    },
    "trusted": true
   },
   "outputs": [],
   "source": [
    "out_df.to_csv('prediction.csv', index=False)"
   ]
  }
 ],
 "metadata": {
  "kaggle": {
   "accelerator": "none",
   "dataSources": [
    {
     "databundleVersionId": 9578279,
     "sourceId": 85062,
     "sourceType": "competition"
    }
   ],
   "dockerImageVersionId": 30775,
   "isGpuEnabled": false,
   "isInternetEnabled": false,
   "language": "python",
   "sourceType": "notebook"
  },
  "kernelspec": {
   "display_name": "Python 3",
   "language": "python",
   "name": "python3"
  },
  "language_info": {
   "codemirror_mode": {
    "name": "ipython",
    "version": 3
   },
   "file_extension": ".py",
   "mimetype": "text/x-python",
   "name": "python",
   "nbconvert_exporter": "python",
   "pygments_lexer": "ipython3",
   "version": "3.10.14"
  }
 },
 "nbformat": 4,
 "nbformat_minor": 4
}
